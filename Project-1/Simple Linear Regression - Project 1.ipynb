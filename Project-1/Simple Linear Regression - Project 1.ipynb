{
 "cells": [
  {
   "cell_type": "markdown",
   "id": "07291515",
   "metadata": {},
   "source": [
    "# PROJECT 1"
   ]
  },
  {
   "cell_type": "markdown",
   "id": "799369ee",
   "metadata": {},
   "source": [
    "# PROBLEM STATEMENT "
   ]
  },
  {
   "cell_type": "markdown",
   "id": "090805dd",
   "metadata": {},
   "source": [
    "Ezekeil is an Ice Cream Seller. He owns an Ice Cream Business. He also doubles as a data scientist who plays around with models. He decided to create a model that could predict the daily revenue in dollar based on the outside air temperature(degC). He decides that a Linear Regression model might me a good fit to solve this problem "
   ]
  },
  {
   "cell_type": "markdown",
   "id": "ca0481a6",
   "metadata": {},
   "source": [
    "# DATASET OVERVIEW "
   ]
  },
  {
   "cell_type": "markdown",
   "id": "118d3400",
   "metadata": {},
   "source": [
    "Ezekeil provides dataset for his business overtime. Taking the into consideration the Weather Temperature and the Revenue. \n",
    "\n",
    "In the dataset, we have two columns, Temperature and Revenue that represent;\n",
    "        Independent variable X - Outside Air Temperature \n",
    "        Dependent variable Y - Overall Daily Revenue generated in dollars\n",
    "        \n",
    "And 500 rows that depict daily Revenue and Temperature overtime "
   ]
  },
  {
   "cell_type": "markdown",
   "id": "3c67ce9c",
   "metadata": {},
   "source": [
    "# WORKFLOW TO BRING ABOUT SOLUTION TO EZEKEIL REVENUE PREDICTION "
   ]
  },
  {
   "cell_type": "markdown",
   "id": "aec4a88a",
   "metadata": {},
   "source": [
    "# Step 1: Importing the Libraries to Use"
   ]
  },
  {
   "cell_type": "code",
   "execution_count": 1,
   "id": "bfd1f37f",
   "metadata": {},
   "outputs": [],
   "source": [
    "# IMPORTING THE LIBRARIES \n",
    "\n",
    "import pandas as pd\n",
    "import numpy as np\n",
    "import seaborn as sns\n",
    "import matplotlib.pyplot as plt"
   ]
  },
  {
   "cell_type": "markdown",
   "id": "f05b9b62",
   "metadata": {},
   "source": [
    "# Step 2: Importing the Given Dataset"
   ]
  },
  {
   "cell_type": "code",
   "execution_count": 2,
   "id": "30094a0c",
   "metadata": {},
   "outputs": [],
   "source": [
    "# IMPORTING AND STORING THE DATASET \n",
    "\n",
    "IceCream = pd.read_csv('IceCreamData.csv')"
   ]
  },
  {
   "cell_type": "code",
   "execution_count": 3,
   "id": "6cbc729a",
   "metadata": {
    "scrolled": true
   },
   "outputs": [
    {
     "data": {
      "text/html": [
       "<div>\n",
       "<style scoped>\n",
       "    .dataframe tbody tr th:only-of-type {\n",
       "        vertical-align: middle;\n",
       "    }\n",
       "\n",
       "    .dataframe tbody tr th {\n",
       "        vertical-align: top;\n",
       "    }\n",
       "\n",
       "    .dataframe thead th {\n",
       "        text-align: right;\n",
       "    }\n",
       "</style>\n",
       "<table border=\"1\" class=\"dataframe\">\n",
       "  <thead>\n",
       "    <tr style=\"text-align: right;\">\n",
       "      <th></th>\n",
       "      <th>Temperature</th>\n",
       "      <th>Revenue</th>\n",
       "    </tr>\n",
       "  </thead>\n",
       "  <tbody>\n",
       "    <tr>\n",
       "      <th>0</th>\n",
       "      <td>24.566884</td>\n",
       "      <td>534.799028</td>\n",
       "    </tr>\n",
       "    <tr>\n",
       "      <th>1</th>\n",
       "      <td>26.005191</td>\n",
       "      <td>625.190122</td>\n",
       "    </tr>\n",
       "    <tr>\n",
       "      <th>2</th>\n",
       "      <td>27.790554</td>\n",
       "      <td>660.632289</td>\n",
       "    </tr>\n",
       "    <tr>\n",
       "      <th>3</th>\n",
       "      <td>20.595335</td>\n",
       "      <td>487.706960</td>\n",
       "    </tr>\n",
       "    <tr>\n",
       "      <th>4</th>\n",
       "      <td>11.503498</td>\n",
       "      <td>316.240194</td>\n",
       "    </tr>\n",
       "    <tr>\n",
       "      <th>5</th>\n",
       "      <td>14.352514</td>\n",
       "      <td>367.940744</td>\n",
       "    </tr>\n",
       "    <tr>\n",
       "      <th>6</th>\n",
       "      <td>13.707780</td>\n",
       "      <td>308.894518</td>\n",
       "    </tr>\n",
       "    <tr>\n",
       "      <th>7</th>\n",
       "      <td>30.833985</td>\n",
       "      <td>696.716640</td>\n",
       "    </tr>\n",
       "    <tr>\n",
       "      <th>8</th>\n",
       "      <td>0.976870</td>\n",
       "      <td>55.390338</td>\n",
       "    </tr>\n",
       "    <tr>\n",
       "      <th>9</th>\n",
       "      <td>31.669465</td>\n",
       "      <td>737.800824</td>\n",
       "    </tr>\n",
       "  </tbody>\n",
       "</table>\n",
       "</div>"
      ],
      "text/plain": [
       "   Temperature     Revenue\n",
       "0    24.566884  534.799028\n",
       "1    26.005191  625.190122\n",
       "2    27.790554  660.632289\n",
       "3    20.595335  487.706960\n",
       "4    11.503498  316.240194\n",
       "5    14.352514  367.940744\n",
       "6    13.707780  308.894518\n",
       "7    30.833985  696.716640\n",
       "8     0.976870   55.390338\n",
       "9    31.669465  737.800824"
      ]
     },
     "execution_count": 3,
     "metadata": {},
     "output_type": "execute_result"
    }
   ],
   "source": [
    "# reading the data \n",
    "\n",
    "IceCream.head(10)"
   ]
  },
  {
   "cell_type": "code",
   "execution_count": 4,
   "id": "62fa89f4",
   "metadata": {},
   "outputs": [
    {
     "data": {
      "text/html": [
       "<div>\n",
       "<style scoped>\n",
       "    .dataframe tbody tr th:only-of-type {\n",
       "        vertical-align: middle;\n",
       "    }\n",
       "\n",
       "    .dataframe tbody tr th {\n",
       "        vertical-align: top;\n",
       "    }\n",
       "\n",
       "    .dataframe thead th {\n",
       "        text-align: right;\n",
       "    }\n",
       "</style>\n",
       "<table border=\"1\" class=\"dataframe\">\n",
       "  <thead>\n",
       "    <tr style=\"text-align: right;\">\n",
       "      <th></th>\n",
       "      <th>Temperature</th>\n",
       "      <th>Revenue</th>\n",
       "    </tr>\n",
       "  </thead>\n",
       "  <tbody>\n",
       "    <tr>\n",
       "      <th>495</th>\n",
       "      <td>22.274899</td>\n",
       "      <td>524.746364</td>\n",
       "    </tr>\n",
       "    <tr>\n",
       "      <th>496</th>\n",
       "      <td>32.893092</td>\n",
       "      <td>755.818399</td>\n",
       "    </tr>\n",
       "    <tr>\n",
       "      <th>497</th>\n",
       "      <td>12.588157</td>\n",
       "      <td>306.090719</td>\n",
       "    </tr>\n",
       "    <tr>\n",
       "      <th>498</th>\n",
       "      <td>22.362402</td>\n",
       "      <td>566.217304</td>\n",
       "    </tr>\n",
       "    <tr>\n",
       "      <th>499</th>\n",
       "      <td>28.957736</td>\n",
       "      <td>655.660388</td>\n",
       "    </tr>\n",
       "  </tbody>\n",
       "</table>\n",
       "</div>"
      ],
      "text/plain": [
       "     Temperature     Revenue\n",
       "495    22.274899  524.746364\n",
       "496    32.893092  755.818399\n",
       "497    12.588157  306.090719\n",
       "498    22.362402  566.217304\n",
       "499    28.957736  655.660388"
      ]
     },
     "execution_count": 4,
     "metadata": {},
     "output_type": "execute_result"
    }
   ],
   "source": [
    "# reading last five row of the dataset\n",
    "\n",
    "IceCream.tail()"
   ]
  },
  {
   "cell_type": "code",
   "execution_count": 5,
   "id": "1ccb5943",
   "metadata": {},
   "outputs": [
    {
     "data": {
      "text/html": [
       "<div>\n",
       "<style scoped>\n",
       "    .dataframe tbody tr th:only-of-type {\n",
       "        vertical-align: middle;\n",
       "    }\n",
       "\n",
       "    .dataframe tbody tr th {\n",
       "        vertical-align: top;\n",
       "    }\n",
       "\n",
       "    .dataframe thead th {\n",
       "        text-align: right;\n",
       "    }\n",
       "</style>\n",
       "<table border=\"1\" class=\"dataframe\">\n",
       "  <thead>\n",
       "    <tr style=\"text-align: right;\">\n",
       "      <th></th>\n",
       "      <th>Temperature</th>\n",
       "      <th>Revenue</th>\n",
       "    </tr>\n",
       "  </thead>\n",
       "  <tbody>\n",
       "    <tr>\n",
       "      <th>0</th>\n",
       "      <td>24.566884</td>\n",
       "      <td>534.799028</td>\n",
       "    </tr>\n",
       "    <tr>\n",
       "      <th>1</th>\n",
       "      <td>26.005191</td>\n",
       "      <td>625.190122</td>\n",
       "    </tr>\n",
       "    <tr>\n",
       "      <th>2</th>\n",
       "      <td>27.790554</td>\n",
       "      <td>660.632289</td>\n",
       "    </tr>\n",
       "    <tr>\n",
       "      <th>3</th>\n",
       "      <td>20.595335</td>\n",
       "      <td>487.706960</td>\n",
       "    </tr>\n",
       "    <tr>\n",
       "      <th>4</th>\n",
       "      <td>11.503498</td>\n",
       "      <td>316.240194</td>\n",
       "    </tr>\n",
       "    <tr>\n",
       "      <th>...</th>\n",
       "      <td>...</td>\n",
       "      <td>...</td>\n",
       "    </tr>\n",
       "    <tr>\n",
       "      <th>495</th>\n",
       "      <td>22.274899</td>\n",
       "      <td>524.746364</td>\n",
       "    </tr>\n",
       "    <tr>\n",
       "      <th>496</th>\n",
       "      <td>32.893092</td>\n",
       "      <td>755.818399</td>\n",
       "    </tr>\n",
       "    <tr>\n",
       "      <th>497</th>\n",
       "      <td>12.588157</td>\n",
       "      <td>306.090719</td>\n",
       "    </tr>\n",
       "    <tr>\n",
       "      <th>498</th>\n",
       "      <td>22.362402</td>\n",
       "      <td>566.217304</td>\n",
       "    </tr>\n",
       "    <tr>\n",
       "      <th>499</th>\n",
       "      <td>28.957736</td>\n",
       "      <td>655.660388</td>\n",
       "    </tr>\n",
       "  </tbody>\n",
       "</table>\n",
       "<p>500 rows × 2 columns</p>\n",
       "</div>"
      ],
      "text/plain": [
       "     Temperature     Revenue\n",
       "0      24.566884  534.799028\n",
       "1      26.005191  625.190122\n",
       "2      27.790554  660.632289\n",
       "3      20.595335  487.706960\n",
       "4      11.503498  316.240194\n",
       "..           ...         ...\n",
       "495    22.274899  524.746364\n",
       "496    32.893092  755.818399\n",
       "497    12.588157  306.090719\n",
       "498    22.362402  566.217304\n",
       "499    28.957736  655.660388\n",
       "\n",
       "[500 rows x 2 columns]"
      ]
     },
     "execution_count": 5,
     "metadata": {},
     "output_type": "execute_result"
    }
   ],
   "source": [
    "# reading all dataset\n",
    "\n",
    "IceCream"
   ]
  },
  {
   "cell_type": "code",
   "execution_count": 6,
   "id": "87133651",
   "metadata": {},
   "outputs": [
    {
     "name": "stdout",
     "output_type": "stream",
     "text": [
      "<class 'pandas.core.frame.DataFrame'>\n",
      "RangeIndex: 500 entries, 0 to 499\n",
      "Data columns (total 2 columns):\n",
      " #   Column       Non-Null Count  Dtype  \n",
      "---  ------       --------------  -----  \n",
      " 0   Temperature  500 non-null    float64\n",
      " 1   Revenue      500 non-null    float64\n",
      "dtypes: float64(2)\n",
      "memory usage: 7.9 KB\n"
     ]
    }
   ],
   "source": [
    "# checking the info of the dataset \n",
    "\n",
    "IceCream.info()"
   ]
  },
  {
   "cell_type": "code",
   "execution_count": 7,
   "id": "1574f813",
   "metadata": {},
   "outputs": [
    {
     "data": {
      "text/html": [
       "<div>\n",
       "<style scoped>\n",
       "    .dataframe tbody tr th:only-of-type {\n",
       "        vertical-align: middle;\n",
       "    }\n",
       "\n",
       "    .dataframe tbody tr th {\n",
       "        vertical-align: top;\n",
       "    }\n",
       "\n",
       "    .dataframe thead th {\n",
       "        text-align: right;\n",
       "    }\n",
       "</style>\n",
       "<table border=\"1\" class=\"dataframe\">\n",
       "  <thead>\n",
       "    <tr style=\"text-align: right;\">\n",
       "      <th></th>\n",
       "      <th>Temperature</th>\n",
       "      <th>Revenue</th>\n",
       "    </tr>\n",
       "  </thead>\n",
       "  <tbody>\n",
       "    <tr>\n",
       "      <th>count</th>\n",
       "      <td>500.000000</td>\n",
       "      <td>500.000000</td>\n",
       "    </tr>\n",
       "    <tr>\n",
       "      <th>mean</th>\n",
       "      <td>22.232225</td>\n",
       "      <td>521.570777</td>\n",
       "    </tr>\n",
       "    <tr>\n",
       "      <th>std</th>\n",
       "      <td>8.096388</td>\n",
       "      <td>175.404751</td>\n",
       "    </tr>\n",
       "    <tr>\n",
       "      <th>min</th>\n",
       "      <td>0.000000</td>\n",
       "      <td>10.000000</td>\n",
       "    </tr>\n",
       "    <tr>\n",
       "      <th>25%</th>\n",
       "      <td>17.122258</td>\n",
       "      <td>405.558681</td>\n",
       "    </tr>\n",
       "    <tr>\n",
       "      <th>50%</th>\n",
       "      <td>22.392791</td>\n",
       "      <td>529.368565</td>\n",
       "    </tr>\n",
       "    <tr>\n",
       "      <th>75%</th>\n",
       "      <td>27.740674</td>\n",
       "      <td>642.257922</td>\n",
       "    </tr>\n",
       "    <tr>\n",
       "      <th>max</th>\n",
       "      <td>45.000000</td>\n",
       "      <td>1000.000000</td>\n",
       "    </tr>\n",
       "  </tbody>\n",
       "</table>\n",
       "</div>"
      ],
      "text/plain": [
       "       Temperature      Revenue\n",
       "count   500.000000   500.000000\n",
       "mean     22.232225   521.570777\n",
       "std       8.096388   175.404751\n",
       "min       0.000000    10.000000\n",
       "25%      17.122258   405.558681\n",
       "50%      22.392791   529.368565\n",
       "75%      27.740674   642.257922\n",
       "max      45.000000  1000.000000"
      ]
     },
     "execution_count": 7,
     "metadata": {},
     "output_type": "execute_result"
    }
   ],
   "source": [
    "# checking statistical summary of the dataset\n",
    "\n",
    "IceCream.describe()"
   ]
  },
  {
   "cell_type": "markdown",
   "id": "3e427aa4",
   "metadata": {},
   "source": [
    "# Step 3: Visualizing the Dataset"
   ]
  },
  {
   "cell_type": "code",
   "execution_count": 8,
   "id": "229cba1f",
   "metadata": {},
   "outputs": [
    {
     "data": {
      "text/plain": [
       "<seaborn.axisgrid.JointGrid at 0x7fefa73b3e20>"
      ]
     },
     "execution_count": 8,
     "metadata": {},
     "output_type": "execute_result"
    },
    {
     "data": {
      "image/png": "[encoded data removed]",
      "text/plain": [
       "<Figure size 432x432 with 3 Axes>"
      ]
     },
     "metadata": {
      "needs_background": "light"
     },
     "output_type": "display_data"
    }
   ],
   "source": [
    "# Visualizing the data USING SEABORN\n",
    "\n",
    "sns.jointplot(x= 'Temperature',\n",
    "             y = 'Revenue',\n",
    "             data = IceCream,\n",
    "             color = 'blue')"
   ]
  },
  {
   "cell_type": "code",
   "execution_count": 9,
   "id": "f424f8cc",
   "metadata": {},
   "outputs": [
    {
     "data": {
      "text/plain": [
       "Text(0, 0.5, 'Revenue')"
      ]
     },
     "execution_count": 9,
     "metadata": {},
     "output_type": "execute_result"
    },
    {
     "data": {
      "image/png": "[encoded data removed]",
      "text/plain": [
       "<Figure size 864x576 with 1 Axes>"
      ]
     },
     "metadata": {
      "needs_background": "light"
     },
     "output_type": "display_data"
    }
   ],
   "source": [
    "# OR PLOTTING USING MATPLOTLIB\n",
    "\n",
    "# to avoid over plotting we want to add alpha parameter\n",
    "# alpha parameter takes values between 0 and 1\n",
    "\n",
    "plt.figure(figsize = (12,8 ))\n",
    "sns.set_style('white')\n",
    "plt.scatter(IceCream['Temperature'],\n",
    "           IceCream['Revenue'],\n",
    "           alpha = 0.8)\n",
    "plt.title('Relationship Between Outside Air Temperature & Revenue Earned Selling Ice Cream',\n",
    "         fontsize = 20,\n",
    "         weight = 'bold')\n",
    "plt.xlabel('Temperatue', fontsize = 14, weight = 'bold')\n",
    "plt.ylabel(\"Revenue\", fontsize = 14, weight = 'bold')"
   ]
  },
  {
   "cell_type": "code",
   "execution_count": 10,
   "id": "df4a6276",
   "metadata": {},
   "outputs": [
    {
     "data": {
      "text/plain": [
       "<seaborn.axisgrid.JointGrid at 0x7fefa77ef220>"
      ]
     },
     "execution_count": 10,
     "metadata": {},
     "output_type": "execute_result"
    },
    {
     "data": {
      "image/png": "[encoded data removed]",
      "text/plain": [
       "<Figure size 432x432 with 3 Axes>"
      ]
     },
     "metadata": {},
     "output_type": "display_data"
    }
   ],
   "source": [
    "# inter-changing the axis and plotting \n",
    "\n",
    "sns.jointplot(y= 'Temperature',\n",
    "             x= 'Revenue',\n",
    "             data = IceCream,\n",
    "             color = 'green')"
   ]
  },
  {
   "cell_type": "code",
   "execution_count": 11,
   "id": "c359a532",
   "metadata": {},
   "outputs": [
    {
     "data": {
      "text/plain": [
       "<seaborn.axisgrid.PairGrid at 0x7fefa88461f0>"
      ]
     },
     "execution_count": 11,
     "metadata": {},
     "output_type": "execute_result"
    },
    {
     "data": {
      "image/png": "[encoded data removed]",
      "text/plain": [
       "<Figure size 360x360 with 6 Axes>"
      ]
     },
     "metadata": {},
     "output_type": "display_data"
    }
   ],
   "source": [
    "# using pairplotting tool in seaborn to plot \n",
    "\n",
    "sns.pairplot(IceCream)"
   ]
  },
  {
   "cell_type": "code",
   "execution_count": 12,
   "id": "ebf41ac0",
   "metadata": {},
   "outputs": [
    {
     "data": {
      "text/plain": [
       "<seaborn.axisgrid.FacetGrid at 0x7fefa88ab790>"
      ]
     },
     "execution_count": 12,
     "metadata": {},
     "output_type": "execute_result"
    },
    {
     "data": {
      "image/png": "[encoded data removed]",
      "text/plain": [
       "<Figure size 360x360 with 1 Axes>"
      ]
     },
     "metadata": {},
     "output_type": "display_data"
    }
   ],
   "source": [
    "# using lmplot tool in seaborn \n",
    "\n",
    "sns.lmplot(x='Temperature',\n",
    "          y = 'Revenue',\n",
    "          data = IceCream)"
   ]
  },
  {
   "cell_type": "markdown",
   "id": "aeffdb3b",
   "metadata": {},
   "source": [
    "        this helps us plot the line that goes through the data points\n",
    "        \n",
    "        it would gives a quick insight if the line drawn is a good fit for the data \n",
    "        "
   ]
  },
  {
   "cell_type": "code",
   "execution_count": 13,
   "id": "d0aee030",
   "metadata": {},
   "outputs": [
    {
     "data": {
      "text/plain": [
       "<seaborn.axisgrid.FacetGrid at 0x7fefa8c6c940>"
      ]
     },
     "execution_count": 13,
     "metadata": {},
     "output_type": "execute_result"
    },
    {
     "data": {
      "image/png": "[encoded data removed]",
      "text/plain": [
       "<Figure size 360x360 with 1 Axes>"
      ]
     },
     "metadata": {},
     "output_type": "display_data"
    }
   ],
   "source": [
    "# intercharging the axis and plot using lmplot\n",
    "\n",
    "sns.lmplot(y='Temperature',\n",
    "          x = 'Revenue',\n",
    "          data = IceCream)"
   ]
  },
  {
   "cell_type": "markdown",
   "id": "ee549e22",
   "metadata": {},
   "source": [
    "# Step 4: Creating Training and Testing Dataset"
   ]
  },
  {
   "cell_type": "code",
   "execution_count": 14,
   "id": "7fde00f6",
   "metadata": {},
   "outputs": [
    {
     "data": {
      "text/html": [
       "<div>\n",
       "<style scoped>\n",
       "    .dataframe tbody tr th:only-of-type {\n",
       "        vertical-align: middle;\n",
       "    }\n",
       "\n",
       "    .dataframe tbody tr th {\n",
       "        vertical-align: top;\n",
       "    }\n",
       "\n",
       "    .dataframe thead th {\n",
       "        text-align: right;\n",
       "    }\n",
       "</style>\n",
       "<table border=\"1\" class=\"dataframe\">\n",
       "  <thead>\n",
       "    <tr style=\"text-align: right;\">\n",
       "      <th></th>\n",
       "      <th>Temperature</th>\n",
       "      <th>Revenue</th>\n",
       "    </tr>\n",
       "  </thead>\n",
       "  <tbody>\n",
       "    <tr>\n",
       "      <th>0</th>\n",
       "      <td>24.566884</td>\n",
       "      <td>534.799028</td>\n",
       "    </tr>\n",
       "    <tr>\n",
       "      <th>1</th>\n",
       "      <td>26.005191</td>\n",
       "      <td>625.190122</td>\n",
       "    </tr>\n",
       "    <tr>\n",
       "      <th>2</th>\n",
       "      <td>27.790554</td>\n",
       "      <td>660.632289</td>\n",
       "    </tr>\n",
       "    <tr>\n",
       "      <th>3</th>\n",
       "      <td>20.595335</td>\n",
       "      <td>487.706960</td>\n",
       "    </tr>\n",
       "    <tr>\n",
       "      <th>4</th>\n",
       "      <td>11.503498</td>\n",
       "      <td>316.240194</td>\n",
       "    </tr>\n",
       "    <tr>\n",
       "      <th>...</th>\n",
       "      <td>...</td>\n",
       "      <td>...</td>\n",
       "    </tr>\n",
       "    <tr>\n",
       "      <th>495</th>\n",
       "      <td>22.274899</td>\n",
       "      <td>524.746364</td>\n",
       "    </tr>\n",
       "    <tr>\n",
       "      <th>496</th>\n",
       "      <td>32.893092</td>\n",
       "      <td>755.818399</td>\n",
       "    </tr>\n",
       "    <tr>\n",
       "      <th>497</th>\n",
       "      <td>12.588157</td>\n",
       "      <td>306.090719</td>\n",
       "    </tr>\n",
       "    <tr>\n",
       "      <th>498</th>\n",
       "      <td>22.362402</td>\n",
       "      <td>566.217304</td>\n",
       "    </tr>\n",
       "    <tr>\n",
       "      <th>499</th>\n",
       "      <td>28.957736</td>\n",
       "      <td>655.660388</td>\n",
       "    </tr>\n",
       "  </tbody>\n",
       "</table>\n",
       "<p>500 rows × 2 columns</p>\n",
       "</div>"
      ],
      "text/plain": [
       "     Temperature     Revenue\n",
       "0      24.566884  534.799028\n",
       "1      26.005191  625.190122\n",
       "2      27.790554  660.632289\n",
       "3      20.595335  487.706960\n",
       "4      11.503498  316.240194\n",
       "..           ...         ...\n",
       "495    22.274899  524.746364\n",
       "496    32.893092  755.818399\n",
       "497    12.588157  306.090719\n",
       "498    22.362402  566.217304\n",
       "499    28.957736  655.660388\n",
       "\n",
       "[500 rows x 2 columns]"
      ]
     },
     "execution_count": 14,
     "metadata": {},
     "output_type": "execute_result"
    }
   ],
   "source": [
    "# Dividing our dataset features into X and Y\n",
    "\n",
    "IceCream"
   ]
  },
  {
   "cell_type": "code",
   "execution_count": 15,
   "id": "476ccd91",
   "metadata": {},
   "outputs": [],
   "source": [
    "# Temperature to variable X as Independent Variable \n",
    "\n",
    "X = IceCream[['Temperature']]"
   ]
  },
  {
   "cell_type": "code",
   "execution_count": 16,
   "id": "273fdae9",
   "metadata": {},
   "outputs": [
    {
     "data": {
      "text/html": [
       "<div>\n",
       "<style scoped>\n",
       "    .dataframe tbody tr th:only-of-type {\n",
       "        vertical-align: middle;\n",
       "    }\n",
       "\n",
       "    .dataframe tbody tr th {\n",
       "        vertical-align: top;\n",
       "    }\n",
       "\n",
       "    .dataframe thead th {\n",
       "        text-align: right;\n",
       "    }\n",
       "</style>\n",
       "<table border=\"1\" class=\"dataframe\">\n",
       "  <thead>\n",
       "    <tr style=\"text-align: right;\">\n",
       "      <th></th>\n",
       "      <th>Temperature</th>\n",
       "    </tr>\n",
       "  </thead>\n",
       "  <tbody>\n",
       "    <tr>\n",
       "      <th>0</th>\n",
       "      <td>24.566884</td>\n",
       "    </tr>\n",
       "    <tr>\n",
       "      <th>1</th>\n",
       "      <td>26.005191</td>\n",
       "    </tr>\n",
       "    <tr>\n",
       "      <th>2</th>\n",
       "      <td>27.790554</td>\n",
       "    </tr>\n",
       "    <tr>\n",
       "      <th>3</th>\n",
       "      <td>20.595335</td>\n",
       "    </tr>\n",
       "    <tr>\n",
       "      <th>4</th>\n",
       "      <td>11.503498</td>\n",
       "    </tr>\n",
       "    <tr>\n",
       "      <th>...</th>\n",
       "      <td>...</td>\n",
       "    </tr>\n",
       "    <tr>\n",
       "      <th>495</th>\n",
       "      <td>22.274899</td>\n",
       "    </tr>\n",
       "    <tr>\n",
       "      <th>496</th>\n",
       "      <td>32.893092</td>\n",
       "    </tr>\n",
       "    <tr>\n",
       "      <th>497</th>\n",
       "      <td>12.588157</td>\n",
       "    </tr>\n",
       "    <tr>\n",
       "      <th>498</th>\n",
       "      <td>22.362402</td>\n",
       "    </tr>\n",
       "    <tr>\n",
       "      <th>499</th>\n",
       "      <td>28.957736</td>\n",
       "    </tr>\n",
       "  </tbody>\n",
       "</table>\n",
       "<p>500 rows × 1 columns</p>\n",
       "</div>"
      ],
      "text/plain": [
       "     Temperature\n",
       "0      24.566884\n",
       "1      26.005191\n",
       "2      27.790554\n",
       "3      20.595335\n",
       "4      11.503498\n",
       "..           ...\n",
       "495    22.274899\n",
       "496    32.893092\n",
       "497    12.588157\n",
       "498    22.362402\n",
       "499    28.957736\n",
       "\n",
       "[500 rows x 1 columns]"
      ]
     },
     "execution_count": 16,
     "metadata": {},
     "output_type": "execute_result"
    }
   ],
   "source": [
    "# read variable X\n",
    "\n",
    "X"
   ]
  },
  {
   "cell_type": "code",
   "execution_count": 17,
   "id": "c33a648a",
   "metadata": {},
   "outputs": [
    {
     "data": {
      "text/html": [
       "<div>\n",
       "<style scoped>\n",
       "    .dataframe tbody tr th:only-of-type {\n",
       "        vertical-align: middle;\n",
       "    }\n",
       "\n",
       "    .dataframe tbody tr th {\n",
       "        vertical-align: top;\n",
       "    }\n",
       "\n",
       "    .dataframe thead th {\n",
       "        text-align: right;\n",
       "    }\n",
       "</style>\n",
       "<table border=\"1\" class=\"dataframe\">\n",
       "  <thead>\n",
       "    <tr style=\"text-align: right;\">\n",
       "      <th></th>\n",
       "      <th>Revenue</th>\n",
       "    </tr>\n",
       "  </thead>\n",
       "  <tbody>\n",
       "    <tr>\n",
       "      <th>0</th>\n",
       "      <td>534.799028</td>\n",
       "    </tr>\n",
       "    <tr>\n",
       "      <th>1</th>\n",
       "      <td>625.190122</td>\n",
       "    </tr>\n",
       "    <tr>\n",
       "      <th>2</th>\n",
       "      <td>660.632289</td>\n",
       "    </tr>\n",
       "    <tr>\n",
       "      <th>3</th>\n",
       "      <td>487.706960</td>\n",
       "    </tr>\n",
       "    <tr>\n",
       "      <th>4</th>\n",
       "      <td>316.240194</td>\n",
       "    </tr>\n",
       "    <tr>\n",
       "      <th>...</th>\n",
       "      <td>...</td>\n",
       "    </tr>\n",
       "    <tr>\n",
       "      <th>495</th>\n",
       "      <td>524.746364</td>\n",
       "    </tr>\n",
       "    <tr>\n",
       "      <th>496</th>\n",
       "      <td>755.818399</td>\n",
       "    </tr>\n",
       "    <tr>\n",
       "      <th>497</th>\n",
       "      <td>306.090719</td>\n",
       "    </tr>\n",
       "    <tr>\n",
       "      <th>498</th>\n",
       "      <td>566.217304</td>\n",
       "    </tr>\n",
       "    <tr>\n",
       "      <th>499</th>\n",
       "      <td>655.660388</td>\n",
       "    </tr>\n",
       "  </tbody>\n",
       "</table>\n",
       "<p>500 rows × 1 columns</p>\n",
       "</div>"
      ],
      "text/plain": [
       "        Revenue\n",
       "0    534.799028\n",
       "1    625.190122\n",
       "2    660.632289\n",
       "3    487.706960\n",
       "4    316.240194\n",
       "..          ...\n",
       "495  524.746364\n",
       "496  755.818399\n",
       "497  306.090719\n",
       "498  566.217304\n",
       "499  655.660388\n",
       "\n",
       "[500 rows x 1 columns]"
      ]
     },
     "execution_count": 17,
     "metadata": {},
     "output_type": "execute_result"
    }
   ],
   "source": [
    "# Revenue to y variable as dependent variable\n",
    "\n",
    "y = IceCream[['Revenue']]\n",
    "y"
   ]
  },
  {
   "cell_type": "markdown",
   "id": "81322b84",
   "metadata": {},
   "source": [
    "Now we want to divide our dataset into training and testing "
   ]
  },
  {
   "cell_type": "code",
   "execution_count": 18,
   "id": "f749a880",
   "metadata": {},
   "outputs": [],
   "source": [
    "# we would be using scikit learn to divide the dataset\n",
    "\n",
    "from sklearn.model_selection import train_test_split\n",
    "\n",
    "# this would help in dividing our dataset"
   ]
  },
  {
   "cell_type": "code",
   "execution_count": 19,
   "id": "2e8e9ccc",
   "metadata": {},
   "outputs": [],
   "source": [
    "X_train, X_test, y_train, y_test = train_test_split(\n",
    "X, y, test_size=0.33, random_state=42)"
   ]
  },
  {
   "cell_type": "code",
   "execution_count": 20,
   "id": "a50520c8",
   "metadata": {},
   "outputs": [
    {
     "data": {
      "text/html": [
       "<div>\n",
       "<style scoped>\n",
       "    .dataframe tbody tr th:only-of-type {\n",
       "        vertical-align: middle;\n",
       "    }\n",
       "\n",
       "    .dataframe tbody tr th {\n",
       "        vertical-align: top;\n",
       "    }\n",
       "\n",
       "    .dataframe thead th {\n",
       "        text-align: right;\n",
       "    }\n",
       "</style>\n",
       "<table border=\"1\" class=\"dataframe\">\n",
       "  <thead>\n",
       "    <tr style=\"text-align: right;\">\n",
       "      <th></th>\n",
       "      <th>Temperature</th>\n",
       "    </tr>\n",
       "  </thead>\n",
       "  <tbody>\n",
       "    <tr>\n",
       "      <th>471</th>\n",
       "      <td>19.494743</td>\n",
       "    </tr>\n",
       "    <tr>\n",
       "      <th>26</th>\n",
       "      <td>15.661464</td>\n",
       "    </tr>\n",
       "    <tr>\n",
       "      <th>7</th>\n",
       "      <td>30.833985</td>\n",
       "    </tr>\n",
       "    <tr>\n",
       "      <th>453</th>\n",
       "      <td>31.160030</td>\n",
       "    </tr>\n",
       "    <tr>\n",
       "      <th>108</th>\n",
       "      <td>28.436567</td>\n",
       "    </tr>\n",
       "    <tr>\n",
       "      <th>...</th>\n",
       "      <td>...</td>\n",
       "    </tr>\n",
       "    <tr>\n",
       "      <th>106</th>\n",
       "      <td>23.761436</td>\n",
       "    </tr>\n",
       "    <tr>\n",
       "      <th>270</th>\n",
       "      <td>24.628611</td>\n",
       "    </tr>\n",
       "    <tr>\n",
       "      <th>348</th>\n",
       "      <td>38.185199</td>\n",
       "    </tr>\n",
       "    <tr>\n",
       "      <th>435</th>\n",
       "      <td>15.916678</td>\n",
       "    </tr>\n",
       "    <tr>\n",
       "      <th>102</th>\n",
       "      <td>14.287196</td>\n",
       "    </tr>\n",
       "  </tbody>\n",
       "</table>\n",
       "<p>335 rows × 1 columns</p>\n",
       "</div>"
      ],
      "text/plain": [
       "     Temperature\n",
       "471    19.494743\n",
       "26     15.661464\n",
       "7      30.833985\n",
       "453    31.160030\n",
       "108    28.436567\n",
       "..           ...\n",
       "106    23.761436\n",
       "270    24.628611\n",
       "348    38.185199\n",
       "435    15.916678\n",
       "102    14.287196\n",
       "\n",
       "[335 rows x 1 columns]"
      ]
     },
     "execution_count": 20,
     "metadata": {},
     "output_type": "execute_result"
    }
   ],
   "source": [
    "X_train"
   ]
  },
  {
   "cell_type": "code",
   "execution_count": 21,
   "id": "a253b3d5",
   "metadata": {},
   "outputs": [
    {
     "data": {
      "text/html": [
       "<div>\n",
       "<style scoped>\n",
       "    .dataframe tbody tr th:only-of-type {\n",
       "        vertical-align: middle;\n",
       "    }\n",
       "\n",
       "    .dataframe tbody tr th {\n",
       "        vertical-align: top;\n",
       "    }\n",
       "\n",
       "    .dataframe thead th {\n",
       "        text-align: right;\n",
       "    }\n",
       "</style>\n",
       "<table border=\"1\" class=\"dataframe\">\n",
       "  <thead>\n",
       "    <tr style=\"text-align: right;\">\n",
       "      <th></th>\n",
       "      <th>Temperature</th>\n",
       "    </tr>\n",
       "  </thead>\n",
       "  <tbody>\n",
       "    <tr>\n",
       "      <th>count</th>\n",
       "      <td>335.000000</td>\n",
       "    </tr>\n",
       "    <tr>\n",
       "      <th>mean</th>\n",
       "      <td>22.022935</td>\n",
       "    </tr>\n",
       "    <tr>\n",
       "      <th>std</th>\n",
       "      <td>8.195681</td>\n",
       "    </tr>\n",
       "    <tr>\n",
       "      <th>min</th>\n",
       "      <td>0.000000</td>\n",
       "    </tr>\n",
       "    <tr>\n",
       "      <th>25%</th>\n",
       "      <td>16.392797</td>\n",
       "    </tr>\n",
       "    <tr>\n",
       "      <th>50%</th>\n",
       "      <td>22.189516</td>\n",
       "    </tr>\n",
       "    <tr>\n",
       "      <th>75%</th>\n",
       "      <td>27.586013</td>\n",
       "    </tr>\n",
       "    <tr>\n",
       "      <th>max</th>\n",
       "      <td>45.000000</td>\n",
       "    </tr>\n",
       "  </tbody>\n",
       "</table>\n",
       "</div>"
      ],
      "text/plain": [
       "       Temperature\n",
       "count   335.000000\n",
       "mean     22.022935\n",
       "std       8.195681\n",
       "min       0.000000\n",
       "25%      16.392797\n",
       "50%      22.189516\n",
       "75%      27.586013\n",
       "max      45.000000"
      ]
     },
     "execution_count": 21,
     "metadata": {},
     "output_type": "execute_result"
    }
   ],
   "source": [
    "X_train.describe()"
   ]
  },
  {
   "cell_type": "markdown",
   "id": "b94ff7b9",
   "metadata": {},
   "source": [
    "Note: the training dataset is 67% of the\n",
    "    entire sample population"
   ]
  },
  {
   "cell_type": "code",
   "execution_count": 22,
   "id": "ac87e9cb",
   "metadata": {},
   "outputs": [
    {
     "data": {
      "text/html": [
       "<div>\n",
       "<style scoped>\n",
       "    .dataframe tbody tr th:only-of-type {\n",
       "        vertical-align: middle;\n",
       "    }\n",
       "\n",
       "    .dataframe tbody tr th {\n",
       "        vertical-align: top;\n",
       "    }\n",
       "\n",
       "    .dataframe thead th {\n",
       "        text-align: right;\n",
       "    }\n",
       "</style>\n",
       "<table border=\"1\" class=\"dataframe\">\n",
       "  <thead>\n",
       "    <tr style=\"text-align: right;\">\n",
       "      <th></th>\n",
       "      <th>Temperature</th>\n",
       "    </tr>\n",
       "  </thead>\n",
       "  <tbody>\n",
       "    <tr>\n",
       "      <th>361</th>\n",
       "      <td>29.704183</td>\n",
       "    </tr>\n",
       "    <tr>\n",
       "      <th>73</th>\n",
       "      <td>27.375401</td>\n",
       "    </tr>\n",
       "    <tr>\n",
       "      <th>374</th>\n",
       "      <td>23.984641</td>\n",
       "    </tr>\n",
       "    <tr>\n",
       "      <th>155</th>\n",
       "      <td>21.144047</td>\n",
       "    </tr>\n",
       "    <tr>\n",
       "      <th>104</th>\n",
       "      <td>26.595054</td>\n",
       "    </tr>\n",
       "    <tr>\n",
       "      <th>...</th>\n",
       "      <td>...</td>\n",
       "    </tr>\n",
       "    <tr>\n",
       "      <th>110</th>\n",
       "      <td>25.419302</td>\n",
       "    </tr>\n",
       "    <tr>\n",
       "      <th>318</th>\n",
       "      <td>28.298690</td>\n",
       "    </tr>\n",
       "    <tr>\n",
       "      <th>428</th>\n",
       "      <td>27.721440</td>\n",
       "    </tr>\n",
       "    <tr>\n",
       "      <th>29</th>\n",
       "      <td>35.120151</td>\n",
       "    </tr>\n",
       "    <tr>\n",
       "      <th>437</th>\n",
       "      <td>28.793159</td>\n",
       "    </tr>\n",
       "  </tbody>\n",
       "</table>\n",
       "<p>165 rows × 1 columns</p>\n",
       "</div>"
      ],
      "text/plain": [
       "     Temperature\n",
       "361    29.704183\n",
       "73     27.375401\n",
       "374    23.984641\n",
       "155    21.144047\n",
       "104    26.595054\n",
       "..           ...\n",
       "110    25.419302\n",
       "318    28.298690\n",
       "428    27.721440\n",
       "29     35.120151\n",
       "437    28.793159\n",
       "\n",
       "[165 rows x 1 columns]"
      ]
     },
     "execution_count": 22,
     "metadata": {},
     "output_type": "execute_result"
    }
   ],
   "source": [
    "X_test"
   ]
  },
  {
   "cell_type": "markdown",
   "id": "bfdcffcf",
   "metadata": {},
   "source": [
    "Note: the testing dataset is the 33% of the entire sample population"
   ]
  },
  {
   "cell_type": "code",
   "execution_count": 23,
   "id": "8b1e4c49",
   "metadata": {},
   "outputs": [
    {
     "data": {
      "text/plain": [
       "(335, 1)"
      ]
     },
     "execution_count": 23,
     "metadata": {},
     "output_type": "execute_result"
    }
   ],
   "source": [
    "X_train.shape"
   ]
  },
  {
   "cell_type": "code",
   "execution_count": 24,
   "id": "895e0f4e",
   "metadata": {},
   "outputs": [
    {
     "data": {
      "text/plain": [
       "(165, 1)"
      ]
     },
     "execution_count": 24,
     "metadata": {},
     "output_type": "execute_result"
    }
   ],
   "source": [
    "X_test.shape"
   ]
  },
  {
   "cell_type": "code",
   "execution_count": 25,
   "id": "7e16c9fe",
   "metadata": {},
   "outputs": [
    {
     "data": {
      "text/html": [
       "<div>\n",
       "<style scoped>\n",
       "    .dataframe tbody tr th:only-of-type {\n",
       "        vertical-align: middle;\n",
       "    }\n",
       "\n",
       "    .dataframe tbody tr th {\n",
       "        vertical-align: top;\n",
       "    }\n",
       "\n",
       "    .dataframe thead th {\n",
       "        text-align: right;\n",
       "    }\n",
       "</style>\n",
       "<table border=\"1\" class=\"dataframe\">\n",
       "  <thead>\n",
       "    <tr style=\"text-align: right;\">\n",
       "      <th></th>\n",
       "      <th>Revenue</th>\n",
       "    </tr>\n",
       "  </thead>\n",
       "  <tbody>\n",
       "    <tr>\n",
       "      <th>471</th>\n",
       "      <td>429.435702</td>\n",
       "    </tr>\n",
       "    <tr>\n",
       "      <th>26</th>\n",
       "      <td>402.455320</td>\n",
       "    </tr>\n",
       "    <tr>\n",
       "      <th>7</th>\n",
       "      <td>696.716640</td>\n",
       "    </tr>\n",
       "    <tr>\n",
       "      <th>453</th>\n",
       "      <td>746.946389</td>\n",
       "    </tr>\n",
       "    <tr>\n",
       "      <th>108</th>\n",
       "      <td>643.788331</td>\n",
       "    </tr>\n",
       "    <tr>\n",
       "      <th>...</th>\n",
       "      <td>...</td>\n",
       "    </tr>\n",
       "    <tr>\n",
       "      <th>106</th>\n",
       "      <td>553.445291</td>\n",
       "    </tr>\n",
       "    <tr>\n",
       "      <th>270</th>\n",
       "      <td>603.305339</td>\n",
       "    </tr>\n",
       "    <tr>\n",
       "      <th>348</th>\n",
       "      <td>856.303304</td>\n",
       "    </tr>\n",
       "    <tr>\n",
       "      <th>435</th>\n",
       "      <td>381.043377</td>\n",
       "    </tr>\n",
       "    <tr>\n",
       "      <th>102</th>\n",
       "      <td>322.592741</td>\n",
       "    </tr>\n",
       "  </tbody>\n",
       "</table>\n",
       "<p>335 rows × 1 columns</p>\n",
       "</div>"
      ],
      "text/plain": [
       "        Revenue\n",
       "471  429.435702\n",
       "26   402.455320\n",
       "7    696.716640\n",
       "453  746.946389\n",
       "108  643.788331\n",
       "..          ...\n",
       "106  553.445291\n",
       "270  603.305339\n",
       "348  856.303304\n",
       "435  381.043377\n",
       "102  322.592741\n",
       "\n",
       "[335 rows x 1 columns]"
      ]
     },
     "execution_count": 25,
     "metadata": {},
     "output_type": "execute_result"
    }
   ],
   "source": [
    "y_train"
   ]
  },
  {
   "cell_type": "code",
   "execution_count": 26,
   "id": "aaa342ac",
   "metadata": {},
   "outputs": [
    {
     "data": {
      "text/plain": [
       "(335, 1)"
      ]
     },
     "execution_count": 26,
     "metadata": {},
     "output_type": "execute_result"
    }
   ],
   "source": [
    "y_train.shape"
   ]
  },
  {
   "cell_type": "code",
   "execution_count": 27,
   "id": "441ba9dc",
   "metadata": {},
   "outputs": [
    {
     "data": {
      "text/html": [
       "<div>\n",
       "<style scoped>\n",
       "    .dataframe tbody tr th:only-of-type {\n",
       "        vertical-align: middle;\n",
       "    }\n",
       "\n",
       "    .dataframe tbody tr th {\n",
       "        vertical-align: top;\n",
       "    }\n",
       "\n",
       "    .dataframe thead th {\n",
       "        text-align: right;\n",
       "    }\n",
       "</style>\n",
       "<table border=\"1\" class=\"dataframe\">\n",
       "  <thead>\n",
       "    <tr style=\"text-align: right;\">\n",
       "      <th></th>\n",
       "      <th>Revenue</th>\n",
       "    </tr>\n",
       "  </thead>\n",
       "  <tbody>\n",
       "    <tr>\n",
       "      <th>361</th>\n",
       "      <td>659.873287</td>\n",
       "    </tr>\n",
       "    <tr>\n",
       "      <th>73</th>\n",
       "      <td>623.248701</td>\n",
       "    </tr>\n",
       "    <tr>\n",
       "      <th>374</th>\n",
       "      <td>559.135869</td>\n",
       "    </tr>\n",
       "    <tr>\n",
       "      <th>155</th>\n",
       "      <td>497.752318</td>\n",
       "    </tr>\n",
       "    <tr>\n",
       "      <th>104</th>\n",
       "      <td>627.901841</td>\n",
       "    </tr>\n",
       "    <tr>\n",
       "      <th>...</th>\n",
       "      <td>...</td>\n",
       "    </tr>\n",
       "    <tr>\n",
       "      <th>110</th>\n",
       "      <td>603.037118</td>\n",
       "    </tr>\n",
       "    <tr>\n",
       "      <th>318</th>\n",
       "      <td>639.538012</td>\n",
       "    </tr>\n",
       "    <tr>\n",
       "      <th>428</th>\n",
       "      <td>654.894955</td>\n",
       "    </tr>\n",
       "    <tr>\n",
       "      <th>29</th>\n",
       "      <td>809.672053</td>\n",
       "    </tr>\n",
       "    <tr>\n",
       "      <th>437</th>\n",
       "      <td>654.129377</td>\n",
       "    </tr>\n",
       "  </tbody>\n",
       "</table>\n",
       "<p>165 rows × 1 columns</p>\n",
       "</div>"
      ],
      "text/plain": [
       "        Revenue\n",
       "361  659.873287\n",
       "73   623.248701\n",
       "374  559.135869\n",
       "155  497.752318\n",
       "104  627.901841\n",
       "..          ...\n",
       "110  603.037118\n",
       "318  639.538012\n",
       "428  654.894955\n",
       "29   809.672053\n",
       "437  654.129377\n",
       "\n",
       "[165 rows x 1 columns]"
      ]
     },
     "execution_count": 27,
     "metadata": {},
     "output_type": "execute_result"
    }
   ],
   "source": [
    "y_test"
   ]
  },
  {
   "cell_type": "code",
   "execution_count": 28,
   "id": "a2417b96",
   "metadata": {},
   "outputs": [
    {
     "data": {
      "text/plain": [
       "(165, 1)"
      ]
     },
     "execution_count": 28,
     "metadata": {},
     "output_type": "execute_result"
    }
   ],
   "source": [
    "y_test.shape"
   ]
  },
  {
   "cell_type": "code",
   "execution_count": 29,
   "id": "d889fe69",
   "metadata": {},
   "outputs": [],
   "source": [
    "# changing the testing to 20% and 80% training \n",
    "\n",
    "\n",
    "X_train, X_test, y_train, y_test = train_test_split(\n",
    "X, y, test_size=0.2, train_size =0.8, random_state=42)"
   ]
  },
  {
   "cell_type": "code",
   "execution_count": 30,
   "id": "23ff6183",
   "metadata": {},
   "outputs": [
    {
     "data": {
      "text/plain": [
       "(400, 1)"
      ]
     },
     "execution_count": 30,
     "metadata": {},
     "output_type": "execute_result"
    }
   ],
   "source": [
    "X_train.shape"
   ]
  },
  {
   "cell_type": "code",
   "execution_count": 31,
   "id": "6f8a739a",
   "metadata": {},
   "outputs": [
    {
     "data": {
      "text/plain": [
       "(100, 1)"
      ]
     },
     "execution_count": 31,
     "metadata": {},
     "output_type": "execute_result"
    }
   ],
   "source": [
    "X_test.shape "
   ]
  },
  {
   "cell_type": "code",
   "execution_count": 32,
   "id": "597c84e8",
   "metadata": {},
   "outputs": [
    {
     "data": {
      "text/plain": [
       "(400, 1)"
      ]
     },
     "execution_count": 32,
     "metadata": {},
     "output_type": "execute_result"
    }
   ],
   "source": [
    "y_train.shape"
   ]
  },
  {
   "cell_type": "code",
   "execution_count": 33,
   "id": "2d37dc04",
   "metadata": {},
   "outputs": [
    {
     "data": {
      "text/plain": [
       "(100, 1)"
      ]
     },
     "execution_count": 33,
     "metadata": {},
     "output_type": "execute_result"
    }
   ],
   "source": [
    "y_test.shape"
   ]
  },
  {
   "cell_type": "markdown",
   "id": "1c5a5962",
   "metadata": {},
   "source": [
    " We have splitted our dataset to 80 by 20 "
   ]
  },
  {
   "cell_type": "markdown",
   "id": "f9d06ba0",
   "metadata": {},
   "source": [
    "# Step 5: Train the model "
   ]
  },
  {
   "cell_type": "markdown",
   "id": "eb1b4e0e",
   "metadata": {},
   "source": [
    "Here, we would be training the splitted dataset"
   ]
  },
  {
   "cell_type": "code",
   "execution_count": 34,
   "id": "9756d1d6",
   "metadata": {},
   "outputs": [
    {
     "data": {
      "text/plain": [
       "LinearRegression()"
      ]
     },
     "execution_count": 34,
     "metadata": {},
     "output_type": "execute_result"
    }
   ],
   "source": [
    "# sklearn makes the training possible\n",
    "# so we would import linearRegression from sklearn\n",
    "\n",
    "from sklearn.linear_model import LinearRegression\n",
    "regressor = LinearRegression(fit_intercept = True)\n",
    "regressor.fit(X_train, y_train)"
   ]
  },
  {
   "cell_type": "code",
   "execution_count": 35,
   "id": "b0805faa",
   "metadata": {},
   "outputs": [
    {
     "name": "stdout",
     "output_type": "stream",
     "text": [
      "Linear Model Coefficient(m):  [[21.38197386]]\n",
      "Linear Model Coefficient(b):  [46.80464128]\n"
     ]
    }
   ],
   "source": [
    "print('Linear Model Coefficient(m): ', regressor.coef_)\n",
    "print('Linear Model Coefficient(b): ', regressor.intercept_)"
   ]
  },
  {
   "cell_type": "code",
   "execution_count": 36,
   "id": "ad054d52",
   "metadata": {},
   "outputs": [
    {
     "data": {
      "text/plain": [
       "LinearRegression(fit_intercept=False)"
      ]
     },
     "execution_count": 36,
     "metadata": {},
     "output_type": "execute_result"
    }
   ],
   "source": [
    "# SETTING THE FIT_INTERCEPT TO FALSE\n",
    "\n",
    "regressor = LinearRegression(fit_intercept = False)\n",
    "regressor.fit(X_train, y_train)"
   ]
  },
  {
   "cell_type": "code",
   "execution_count": 37,
   "id": "8b13873e",
   "metadata": {},
   "outputs": [
    {
     "name": "stdout",
     "output_type": "stream",
     "text": [
      "Linear Model Coefficient(m):  [[23.24452656]]\n",
      "Linear Model Coefficient(b):  0.0\n"
     ]
    }
   ],
   "source": [
    "print('Linear Model Coefficient(m): ', regressor.coef_)\n",
    "print('Linear Model Coefficient(b): ', regressor.intercept_)"
   ]
  },
  {
   "cell_type": "code",
   "execution_count": 38,
   "id": "d76e2d8d",
   "metadata": {},
   "outputs": [
    {
     "data": {
      "text/plain": [
       "LinearRegression()"
      ]
     },
     "execution_count": 38,
     "metadata": {},
     "output_type": "execute_result"
    }
   ],
   "source": [
    "# changing the intercept to TRUE\n",
    "\n",
    "regressor = LinearRegression(fit_intercept = True)\n",
    "regressor.fit(X_train, y_train)"
   ]
  },
  {
   "cell_type": "code",
   "execution_count": 39,
   "id": "64e3bae3",
   "metadata": {},
   "outputs": [
    {
     "name": "stdout",
     "output_type": "stream",
     "text": [
      "Linear Model Coefficient(m):  [[21.38197386]]\n",
      "Linear Model Coefficient(b):  [46.80464128]\n"
     ]
    }
   ],
   "source": [
    "print('Linear Model Coefficient(m): ', regressor.coef_)\n",
    "print('Linear Model Coefficient(b): ', regressor.intercept_)"
   ]
  },
  {
   "cell_type": "markdown",
   "id": "9427ac7b",
   "metadata": {},
   "source": [
    "# Step 6: Test the model"
   ]
  },
  {
   "cell_type": "markdown",
   "id": "f24c9392",
   "metadata": {},
   "source": [
    "Here, we would be testing the model with the splitted testing dataset \n",
    "\n",
    "        And\n",
    "\n",
    "We would visualize the outcome "
   ]
  },
  {
   "cell_type": "markdown",
   "id": "bd0b8249",
   "metadata": {},
   "source": [
    "    first, we are predicting the y using the set aside X_test dataset and our model (regressor) to predict it"
   ]
  },
  {
   "cell_type": "code",
   "execution_count": 40,
   "id": "d06f3ce1",
   "metadata": {},
   "outputs": [
    {
     "data": {
      "text/html": [
       "<div>\n",
       "<style scoped>\n",
       "    .dataframe tbody tr th:only-of-type {\n",
       "        vertical-align: middle;\n",
       "    }\n",
       "\n",
       "    .dataframe tbody tr th {\n",
       "        vertical-align: top;\n",
       "    }\n",
       "\n",
       "    .dataframe thead th {\n",
       "        text-align: right;\n",
       "    }\n",
       "</style>\n",
       "<table border=\"1\" class=\"dataframe\">\n",
       "  <thead>\n",
       "    <tr style=\"text-align: right;\">\n",
       "      <th></th>\n",
       "      <th>Temperature</th>\n",
       "    </tr>\n",
       "  </thead>\n",
       "  <tbody>\n",
       "    <tr>\n",
       "      <th>361</th>\n",
       "      <td>29.704183</td>\n",
       "    </tr>\n",
       "    <tr>\n",
       "      <th>73</th>\n",
       "      <td>27.375401</td>\n",
       "    </tr>\n",
       "    <tr>\n",
       "      <th>374</th>\n",
       "      <td>23.984641</td>\n",
       "    </tr>\n",
       "    <tr>\n",
       "      <th>155</th>\n",
       "      <td>21.144047</td>\n",
       "    </tr>\n",
       "    <tr>\n",
       "      <th>104</th>\n",
       "      <td>26.595054</td>\n",
       "    </tr>\n",
       "    <tr>\n",
       "      <th>...</th>\n",
       "      <td>...</td>\n",
       "    </tr>\n",
       "    <tr>\n",
       "      <th>347</th>\n",
       "      <td>24.960446</td>\n",
       "    </tr>\n",
       "    <tr>\n",
       "      <th>86</th>\n",
       "      <td>27.780500</td>\n",
       "    </tr>\n",
       "    <tr>\n",
       "      <th>75</th>\n",
       "      <td>28.790101</td>\n",
       "    </tr>\n",
       "    <tr>\n",
       "      <th>438</th>\n",
       "      <td>17.132795</td>\n",
       "    </tr>\n",
       "    <tr>\n",
       "      <th>15</th>\n",
       "      <td>18.483141</td>\n",
       "    </tr>\n",
       "  </tbody>\n",
       "</table>\n",
       "<p>100 rows × 1 columns</p>\n",
       "</div>"
      ],
      "text/plain": [
       "     Temperature\n",
       "361    29.704183\n",
       "73     27.375401\n",
       "374    23.984641\n",
       "155    21.144047\n",
       "104    26.595054\n",
       "..           ...\n",
       "347    24.960446\n",
       "86     27.780500\n",
       "75     28.790101\n",
       "438    17.132795\n",
       "15     18.483141\n",
       "\n",
       "[100 rows x 1 columns]"
      ]
     },
     "execution_count": 40,
     "metadata": {},
     "output_type": "execute_result"
    }
   ],
   "source": [
    "# visualizing the X_test data\n",
    "\n",
    "X_test"
   ]
  },
  {
   "cell_type": "code",
   "execution_count": 41,
   "id": "c0531dac",
   "metadata": {},
   "outputs": [],
   "source": [
    "# taking the regressor that contains the model \n",
    "# past along the predicting test \n",
    "\n",
    "\n",
    "y_predict = regressor.predict(X_test)\n"
   ]
  },
  {
   "cell_type": "code",
   "execution_count": 42,
   "id": "cc871a16",
   "metadata": {},
   "outputs": [
    {
     "data": {
      "text/plain": [
       "array([[681.93870622],\n",
       "       [632.14474995],\n",
       "       [559.64360486],\n",
       "       [498.90609993],\n",
       "       [615.45939165],\n",
       "       [304.72417213],\n",
       "       [285.79420948],\n",
       "       [315.60842003],\n",
       "       [506.26427154],\n",
       "       [685.69744019],\n",
       "       [723.96030494],\n",
       "       [400.84625166],\n",
       "       [431.61634142],\n",
       "       [671.36600031],\n",
       "       [ 52.51422053],\n",
       "       [198.77682819],\n",
       "       [523.08595488],\n",
       "       [563.90495549],\n",
       "       [583.83579144],\n",
       "       [682.24517768],\n",
       "       [556.2285085 ],\n",
       "       [783.88766163],\n",
       "       [655.44109362],\n",
       "       [570.0735459 ],\n",
       "       [912.21841974],\n",
       "       [664.74778505],\n",
       "       [315.96428407],\n",
       "       [631.00983241],\n",
       "       [731.1169322 ],\n",
       "       [698.02984963],\n",
       "       [435.08453949],\n",
       "       [471.22058847],\n",
       "       [710.29440571],\n",
       "       [799.81874771],\n",
       "       [641.02153776],\n",
       "       [493.66044553],\n",
       "       [744.9247237 ],\n",
       "       [318.10831232],\n",
       "       [262.69083171],\n",
       "       [132.04437543],\n",
       "       [582.55738268],\n",
       "       [230.41054193],\n",
       "       [547.29799783],\n",
       "       [393.00654153],\n",
       "       [436.66704225],\n",
       "       [593.02780835],\n",
       "       [572.09312165],\n",
       "       [125.16251036],\n",
       "       [474.79444877],\n",
       "       [530.45025905],\n",
       "       [623.19251713],\n",
       "       [503.4813544 ],\n",
       "       [484.60103791],\n",
       "       [498.58705266],\n",
       "       [551.22738648],\n",
       "       [630.80646076],\n",
       "       [573.12703075],\n",
       "       [679.486141  ],\n",
       "       [171.29759926],\n",
       "       [660.49458416],\n",
       "       [583.75017395],\n",
       "       [704.57274239],\n",
       "       [535.82240023],\n",
       "       [630.12763484],\n",
       "       [676.79854535],\n",
       "       [411.36168509],\n",
       "       [508.88286115],\n",
       "       [494.71237942],\n",
       "       [731.12113825],\n",
       "       [312.64970607],\n",
       "       [318.45658383],\n",
       "       [454.48599433],\n",
       "       [795.88908859],\n",
       "       [424.3427197 ],\n",
       "       [520.47071347],\n",
       "       [688.86698747],\n",
       "       [804.96958246],\n",
       "       [448.21981638],\n",
       "       [493.70018478],\n",
       "       [493.61560689],\n",
       "       [546.05307987],\n",
       "       [520.86863586],\n",
       "       [663.24179618],\n",
       "       [547.66983485],\n",
       "       [589.3531778 ],\n",
       "       [697.41089087],\n",
       "       [239.06622088],\n",
       "       [626.63543807],\n",
       "       [585.44702174],\n",
       "       [768.32242947],\n",
       "       [428.92615255],\n",
       "       [522.0216248 ],\n",
       "       [610.64187899],\n",
       "       [353.88023698],\n",
       "       [562.40093312],\n",
       "       [580.5082378 ],\n",
       "       [640.80655591],\n",
       "       [662.39383884],\n",
       "       [413.13762416],\n",
       "       [442.01067869]])"
      ]
     },
     "execution_count": 42,
     "metadata": {},
     "output_type": "execute_result"
    }
   ],
   "source": [
    "# running the outcome\n",
    "\n",
    "y_predict"
   ]
  },
  {
   "cell_type": "code",
   "execution_count": 43,
   "id": "d9d11d1b",
   "metadata": {},
   "outputs": [
    {
     "data": {
      "text/plain": [
       "(100, 1)"
      ]
     },
     "execution_count": 43,
     "metadata": {},
     "output_type": "execute_result"
    }
   ],
   "source": [
    "y_predict.shape"
   ]
  },
  {
   "cell_type": "code",
   "execution_count": 44,
   "id": "6390fbad",
   "metadata": {},
   "outputs": [
    {
     "data": {
      "text/html": [
       "<div>\n",
       "<style scoped>\n",
       "    .dataframe tbody tr th:only-of-type {\n",
       "        vertical-align: middle;\n",
       "    }\n",
       "\n",
       "    .dataframe tbody tr th {\n",
       "        vertical-align: top;\n",
       "    }\n",
       "\n",
       "    .dataframe thead th {\n",
       "        text-align: right;\n",
       "    }\n",
       "</style>\n",
       "<table border=\"1\" class=\"dataframe\">\n",
       "  <thead>\n",
       "    <tr style=\"text-align: right;\">\n",
       "      <th></th>\n",
       "      <th>Revenue</th>\n",
       "    </tr>\n",
       "  </thead>\n",
       "  <tbody>\n",
       "    <tr>\n",
       "      <th>361</th>\n",
       "      <td>659.873287</td>\n",
       "    </tr>\n",
       "    <tr>\n",
       "      <th>73</th>\n",
       "      <td>623.248701</td>\n",
       "    </tr>\n",
       "    <tr>\n",
       "      <th>374</th>\n",
       "      <td>559.135869</td>\n",
       "    </tr>\n",
       "    <tr>\n",
       "      <th>155</th>\n",
       "      <td>497.752318</td>\n",
       "    </tr>\n",
       "    <tr>\n",
       "      <th>104</th>\n",
       "      <td>627.901841</td>\n",
       "    </tr>\n",
       "    <tr>\n",
       "      <th>...</th>\n",
       "      <td>...</td>\n",
       "    </tr>\n",
       "    <tr>\n",
       "      <th>347</th>\n",
       "      <td>564.310532</td>\n",
       "    </tr>\n",
       "    <tr>\n",
       "      <th>86</th>\n",
       "      <td>643.944327</td>\n",
       "    </tr>\n",
       "    <tr>\n",
       "      <th>75</th>\n",
       "      <td>653.986736</td>\n",
       "    </tr>\n",
       "    <tr>\n",
       "      <th>438</th>\n",
       "      <td>412.082357</td>\n",
       "    </tr>\n",
       "    <tr>\n",
       "      <th>15</th>\n",
       "      <td>469.909033</td>\n",
       "    </tr>\n",
       "  </tbody>\n",
       "</table>\n",
       "<p>100 rows × 1 columns</p>\n",
       "</div>"
      ],
      "text/plain": [
       "        Revenue\n",
       "361  659.873287\n",
       "73   623.248701\n",
       "374  559.135869\n",
       "155  497.752318\n",
       "104  627.901841\n",
       "..          ...\n",
       "347  564.310532\n",
       "86   643.944327\n",
       "75   653.986736\n",
       "438  412.082357\n",
       "15   469.909033\n",
       "\n",
       "[100 rows x 1 columns]"
      ]
     },
     "execution_count": 44,
     "metadata": {},
     "output_type": "execute_result"
    }
   ],
   "source": [
    "# visualize y_test data for investigation\n",
    "\n",
    "y_test"
   ]
  },
  {
   "cell_type": "code",
   "execution_count": 45,
   "id": "8a29e31b",
   "metadata": {},
   "outputs": [
    {
     "data": {
      "text/plain": [
       "Text(0.5, 1.0, 'Revenue Generated vs. Temperature @ Ice Cream Stand(For Training Set)')"
      ]
     },
     "execution_count": 45,
     "metadata": {},
     "output_type": "execute_result"
    },
    {
     "data": {
      "image/png": "[encoded data removed]",
      "text/plain": [
       "<Figure size 432x288 with 1 Axes>"
      ]
     },
     "metadata": {},
     "output_type": "display_data"
    }
   ],
   "source": [
    "# VISUALIZING AND PLOTTING THE TRAINED DATA POINTS\n",
    "\n",
    "plt.scatter(X_train, \n",
    "            y_train,\n",
    "           color = 'blue')\n",
    "plt.xlabel('Temperature')\n",
    "plt.ylabel('Revenue')\n",
    "plt.title('Revenue Generated vs. Temperature @ Ice Cream Stand(For Training Set)')"
   ]
  },
  {
   "cell_type": "code",
   "execution_count": 46,
   "id": "26988044",
   "metadata": {},
   "outputs": [
    {
     "data": {
      "text/plain": [
       "Text(0.5, 1.0, 'Revenue Generated vs. Temperature @ Ice Cream Stand(For Training Set)')"
      ]
     },
     "execution_count": 46,
     "metadata": {},
     "output_type": "execute_result"
    },
    {
     "data": {
      "image/png": "[encoded data removed]",
      "text/plain": [
       "<Figure size 432x288 with 1 Axes>"
      ]
     },
     "metadata": {},
     "output_type": "display_data"
    }
   ],
   "source": [
    "# We want to visualize the trained model we trained \n",
    "# with the trained data \n",
    "\n",
    "plt.scatter(X_train, \n",
    "            y_train,\n",
    "           color = 'blue')\n",
    "plt.plot(X_train,\n",
    "         regressor.predict(X_train),\n",
    "        color = 'red')\n",
    "plt.xlabel('Temperature')\n",
    "plt.ylabel('Revenue')\n",
    "plt.title('Revenue Generated vs. Temperature @ Ice Cream Stand(For Training Set)')"
   ]
  },
  {
   "cell_type": "code",
   "execution_count": 47,
   "id": "0eecbc85",
   "metadata": {},
   "outputs": [
    {
     "data": {
      "text/plain": [
       "Text(0.5, 1.0, 'Revenue Generated vs. Temperature @ Ice Cream Stand(For Testing Set)')"
      ]
     },
     "execution_count": 47,
     "metadata": {},
     "output_type": "execute_result"
    },
    {
     "data": {
      "image/png": "[encoded data removed]",
      "text/plain": [
       "<Figure size 432x288 with 1 Axes>"
      ]
     },
     "metadata": {},
     "output_type": "display_data"
    }
   ],
   "source": [
    "# checking to set what would happen when we plot \n",
    "# using test data \n",
    "\n",
    "plt.scatter(X_test, \n",
    "            y_test,\n",
    "           color = 'black')\n",
    "plt.plot(X_test,\n",
    "         regressor.predict(X_test),\n",
    "        color = 'green')\n",
    "plt.xlabel('Temperature')\n",
    "plt.ylabel('Revenue')\n",
    "plt.title('Revenue Generated vs. Temperature @ Ice Cream Stand(For Testing Set)')"
   ]
  },
  {
   "cell_type": "markdown",
   "id": "f5693d2d",
   "metadata": {},
   "source": [
    "        OBSERVATIONS"
   ]
  },
  {
   "cell_type": "markdown",
   "id": "14f4ed7c",
   "metadata": {},
   "source": [
    "    1. the straight lines for both the training and test are similar to each other. \n",
    "    2. the dataset used to plot were fewer in testing plot than in training plot (which were more)\n",
    "    3. checking the values of the trained models (m and b) in the plotted graphs if they were in consonant with plotted outcome. THEY WERE ACTUALLY"
   ]
  },
  {
   "cell_type": "markdown",
   "id": "7b807cd0",
   "metadata": {},
   "source": [
    "NOW FOR THE TWIST, WE WANT CHECK WHAT OUR OUTCOME WOULD BE CONSIDERING WE DO NOT HAVE Y INTERCEPT "
   ]
  },
  {
   "cell_type": "markdown",
   "id": "06a27823",
   "metadata": {},
   "source": [
    "# Step 5 Reversal: Train the model when intercept is not given "
   ]
  },
  {
   "cell_type": "code",
   "execution_count": 48,
   "id": "3214e043",
   "metadata": {},
   "outputs": [
    {
     "data": {
      "text/plain": [
       "LinearRegression(fit_intercept=False)"
      ]
     },
     "execution_count": 48,
     "metadata": {},
     "output_type": "execute_result"
    }
   ],
   "source": [
    "# setting our intercept to False\n",
    "\n",
    "regressor = LinearRegression(fit_intercept = False)\n",
    "regressor.fit(X_train, y_train)"
   ]
  },
  {
   "cell_type": "code",
   "execution_count": 49,
   "id": "f7babb95",
   "metadata": {},
   "outputs": [
    {
     "name": "stdout",
     "output_type": "stream",
     "text": [
      "Linear Model Coefficient(m):  [[23.24452656]]\n",
      "Linear Model Coefficient(b):  0.0\n"
     ]
    }
   ],
   "source": [
    "print('Linear Model Coefficient(m): ', regressor.coef_)\n",
    "print('Linear Model Coefficient(b): ', regressor.intercept_)"
   ]
  },
  {
   "cell_type": "markdown",
   "id": "41f05bdd",
   "metadata": {},
   "source": [
    "# Step 6 Reversal: Test the model when intercept not given"
   ]
  },
  {
   "cell_type": "code",
   "execution_count": 50,
   "id": "2cc88f83",
   "metadata": {},
   "outputs": [
    {
     "data": {
      "text/html": [
       "<div>\n",
       "<style scoped>\n",
       "    .dataframe tbody tr th:only-of-type {\n",
       "        vertical-align: middle;\n",
       "    }\n",
       "\n",
       "    .dataframe tbody tr th {\n",
       "        vertical-align: top;\n",
       "    }\n",
       "\n",
       "    .dataframe thead th {\n",
       "        text-align: right;\n",
       "    }\n",
       "</style>\n",
       "<table border=\"1\" class=\"dataframe\">\n",
       "  <thead>\n",
       "    <tr style=\"text-align: right;\">\n",
       "      <th></th>\n",
       "      <th>Temperature</th>\n",
       "    </tr>\n",
       "  </thead>\n",
       "  <tbody>\n",
       "    <tr>\n",
       "      <th>361</th>\n",
       "      <td>29.704183</td>\n",
       "    </tr>\n",
       "    <tr>\n",
       "      <th>73</th>\n",
       "      <td>27.375401</td>\n",
       "    </tr>\n",
       "    <tr>\n",
       "      <th>374</th>\n",
       "      <td>23.984641</td>\n",
       "    </tr>\n",
       "    <tr>\n",
       "      <th>155</th>\n",
       "      <td>21.144047</td>\n",
       "    </tr>\n",
       "    <tr>\n",
       "      <th>104</th>\n",
       "      <td>26.595054</td>\n",
       "    </tr>\n",
       "    <tr>\n",
       "      <th>...</th>\n",
       "      <td>...</td>\n",
       "    </tr>\n",
       "    <tr>\n",
       "      <th>347</th>\n",
       "      <td>24.960446</td>\n",
       "    </tr>\n",
       "    <tr>\n",
       "      <th>86</th>\n",
       "      <td>27.780500</td>\n",
       "    </tr>\n",
       "    <tr>\n",
       "      <th>75</th>\n",
       "      <td>28.790101</td>\n",
       "    </tr>\n",
       "    <tr>\n",
       "      <th>438</th>\n",
       "      <td>17.132795</td>\n",
       "    </tr>\n",
       "    <tr>\n",
       "      <th>15</th>\n",
       "      <td>18.483141</td>\n",
       "    </tr>\n",
       "  </tbody>\n",
       "</table>\n",
       "<p>100 rows × 1 columns</p>\n",
       "</div>"
      ],
      "text/plain": [
       "     Temperature\n",
       "361    29.704183\n",
       "73     27.375401\n",
       "374    23.984641\n",
       "155    21.144047\n",
       "104    26.595054\n",
       "..           ...\n",
       "347    24.960446\n",
       "86     27.780500\n",
       "75     28.790101\n",
       "438    17.132795\n",
       "15     18.483141\n",
       "\n",
       "[100 rows x 1 columns]"
      ]
     },
     "execution_count": 50,
     "metadata": {},
     "output_type": "execute_result"
    }
   ],
   "source": [
    "# visualizing the X_test data\n",
    "\n",
    "X_test"
   ]
  },
  {
   "cell_type": "code",
   "execution_count": 51,
   "id": "57b2b1a3",
   "metadata": {},
   "outputs": [],
   "source": [
    "# taking the regressor that contains the model \n",
    "# past along the predicting test \n",
    "\n",
    "\n",
    "y_predict = regressor.predict(X_test)\n"
   ]
  },
  {
   "cell_type": "code",
   "execution_count": 52,
   "id": "cb385ad2",
   "metadata": {},
   "outputs": [
    {
     "data": {
      "text/plain": [
       "array([[690.45967153],\n",
       "       [636.328236  ],\n",
       "       [557.51162139],\n",
       "       [491.48336055],\n",
       "       [618.18944036],\n",
       "       [280.38652685],\n",
       "       [259.80760263],\n",
       "       [292.21888579],\n",
       "       [499.48249181],\n",
       "       [694.54582337],\n",
       "       [736.14171073],\n",
       "       [384.88166122],\n",
       "       [418.33208884],\n",
       "       [678.96599255],\n",
       "       [  6.20693242],\n",
       "       [165.21026355],\n",
       "       [517.76948758],\n",
       "       [562.14417208],\n",
       "       [583.81115423],\n",
       "       [690.79283928],\n",
       "       [553.79904094],\n",
       "       [801.28925249],\n",
       "       [661.65389036],\n",
       "       [568.85009945],\n",
       "       [940.79871668],\n",
       "       [671.77127417],\n",
       "       [292.60574863],\n",
       "       [635.09445744],\n",
       "       [743.9217414 ],\n",
       "       [707.95249109],\n",
       "       [422.10239661],\n",
       "       [461.38620437],\n",
       "       [721.28539485],\n",
       "       [818.60807235],\n",
       "       [645.97826792],\n",
       "       [485.78076481],\n",
       "       [758.93230958],\n",
       "       [294.93654007],\n",
       "       [234.69172316],\n",
       "       [ 92.66484368],\n",
       "       [582.42138514],\n",
       "       [199.59954417],\n",
       "       [544.09060645],\n",
       "       [376.35904532],\n",
       "       [423.82274889],\n",
       "       [593.80387439],\n",
       "       [571.04559752],\n",
       "       [ 85.18350933],\n",
       "       [465.27137845],\n",
       "       [525.7752856 ],\n",
       "       [626.59618717],\n",
       "       [496.4571588 ],\n",
       "       [475.93220535],\n",
       "       [491.13652153],\n",
       "       [548.36227843],\n",
       "       [634.87337038],\n",
       "       [572.16956893],\n",
       "       [687.79346692],\n",
       "       [135.33735886],\n",
       "       [667.14758312],\n",
       "       [583.71807873],\n",
       "       [715.06532574],\n",
       "       [531.6153862 ],\n",
       "       [634.13541292],\n",
       "       [684.8717587 ],\n",
       "       [396.3130788 ],\n",
       "       [502.32918296],\n",
       "       [486.92433113],\n",
       "       [743.92631383],\n",
       "       [289.00244256],\n",
       "       [295.31514901],\n",
       "       [443.19388402],\n",
       "       [814.33610632],\n",
       "       [410.42487249],\n",
       "       [514.92643629],\n",
       "       [697.9914653 ],\n",
       "       [824.20758884],\n",
       "       [436.3818684 ],\n",
       "       [485.8239657 ],\n",
       "       [485.73202034],\n",
       "       [542.73724549],\n",
       "       [515.35902111],\n",
       "       [670.13410079],\n",
       "       [544.49483365],\n",
       "       [589.80915211],\n",
       "       [707.27961574],\n",
       "       [209.00920677],\n",
       "       [630.33901596],\n",
       "       [585.56273646],\n",
       "       [784.36815554],\n",
       "       [415.40756153],\n",
       "       [516.61244525],\n",
       "       [612.95228116],\n",
       "       [333.82450516],\n",
       "       [560.50913651],\n",
       "       [580.19374222],\n",
       "       [645.74455931],\n",
       "       [669.21227912],\n",
       "       [398.24371734],\n",
       "       [429.63186174]])"
      ]
     },
     "execution_count": 52,
     "metadata": {},
     "output_type": "execute_result"
    }
   ],
   "source": [
    "# running the outcome\n",
    "\n",
    "y_predict"
   ]
  },
  {
   "cell_type": "code",
   "execution_count": 53,
   "id": "e8283cf4",
   "metadata": {},
   "outputs": [
    {
     "data": {
      "text/plain": [
       "(100, 1)"
      ]
     },
     "execution_count": 53,
     "metadata": {},
     "output_type": "execute_result"
    }
   ],
   "source": [
    "y_predict.shape"
   ]
  },
  {
   "cell_type": "code",
   "execution_count": 54,
   "id": "772bc7c7",
   "metadata": {},
   "outputs": [
    {
     "data": {
      "text/html": [
       "<div>\n",
       "<style scoped>\n",
       "    .dataframe tbody tr th:only-of-type {\n",
       "        vertical-align: middle;\n",
       "    }\n",
       "\n",
       "    .dataframe tbody tr th {\n",
       "        vertical-align: top;\n",
       "    }\n",
       "\n",
       "    .dataframe thead th {\n",
       "        text-align: right;\n",
       "    }\n",
       "</style>\n",
       "<table border=\"1\" class=\"dataframe\">\n",
       "  <thead>\n",
       "    <tr style=\"text-align: right;\">\n",
       "      <th></th>\n",
       "      <th>Revenue</th>\n",
       "    </tr>\n",
       "  </thead>\n",
       "  <tbody>\n",
       "    <tr>\n",
       "      <th>361</th>\n",
       "      <td>659.873287</td>\n",
       "    </tr>\n",
       "    <tr>\n",
       "      <th>73</th>\n",
       "      <td>623.248701</td>\n",
       "    </tr>\n",
       "    <tr>\n",
       "      <th>374</th>\n",
       "      <td>559.135869</td>\n",
       "    </tr>\n",
       "    <tr>\n",
       "      <th>155</th>\n",
       "      <td>497.752318</td>\n",
       "    </tr>\n",
       "    <tr>\n",
       "      <th>104</th>\n",
       "      <td>627.901841</td>\n",
       "    </tr>\n",
       "    <tr>\n",
       "      <th>...</th>\n",
       "      <td>...</td>\n",
       "    </tr>\n",
       "    <tr>\n",
       "      <th>347</th>\n",
       "      <td>564.310532</td>\n",
       "    </tr>\n",
       "    <tr>\n",
       "      <th>86</th>\n",
       "      <td>643.944327</td>\n",
       "    </tr>\n",
       "    <tr>\n",
       "      <th>75</th>\n",
       "      <td>653.986736</td>\n",
       "    </tr>\n",
       "    <tr>\n",
       "      <th>438</th>\n",
       "      <td>412.082357</td>\n",
       "    </tr>\n",
       "    <tr>\n",
       "      <th>15</th>\n",
       "      <td>469.909033</td>\n",
       "    </tr>\n",
       "  </tbody>\n",
       "</table>\n",
       "<p>100 rows × 1 columns</p>\n",
       "</div>"
      ],
      "text/plain": [
       "        Revenue\n",
       "361  659.873287\n",
       "73   623.248701\n",
       "374  559.135869\n",
       "155  497.752318\n",
       "104  627.901841\n",
       "..          ...\n",
       "347  564.310532\n",
       "86   643.944327\n",
       "75   653.986736\n",
       "438  412.082357\n",
       "15   469.909033\n",
       "\n",
       "[100 rows x 1 columns]"
      ]
     },
     "execution_count": 54,
     "metadata": {},
     "output_type": "execute_result"
    }
   ],
   "source": [
    "# visualize y_test data for investigation\n",
    "\n",
    "y_test\n"
   ]
  },
  {
   "cell_type": "code",
   "execution_count": 55,
   "id": "cd6aec83",
   "metadata": {},
   "outputs": [
    {
     "data": {
      "text/plain": [
       "Text(0.5, 1.0, 'Revenue Generated vs. Temperature @ Ice Cream Stand(For Training Set)')"
      ]
     },
     "execution_count": 55,
     "metadata": {},
     "output_type": "execute_result"
    },
    {
     "data": {
      "image/png": "[encoded data removed]",
      "text/plain": [
       "<Figure size 432x288 with 1 Axes>"
      ]
     },
     "metadata": {},
     "output_type": "display_data"
    }
   ],
   "source": [
    "# VISUALIZING AND PLOTTING THE TRAINED DATA POINTS\n",
    "\n",
    "plt.scatter(X_train, \n",
    "            y_train,\n",
    "           color = 'blue')\n",
    "plt.xlabel('Temperature')\n",
    "plt.ylabel('Revenue')\n",
    "plt.title('Revenue Generated vs. Temperature @ Ice Cream Stand(For Training Set)')"
   ]
  },
  {
   "cell_type": "code",
   "execution_count": 56,
   "id": "400a07fe",
   "metadata": {},
   "outputs": [
    {
     "data": {
      "text/plain": [
       "Text(0.5, 1.0, 'Revenue Generated vs. Temperature @ Ice Cream Stand(For Training Set)')"
      ]
     },
     "execution_count": 56,
     "metadata": {},
     "output_type": "execute_result"
    },
    {
     "data": {
      "image/png": "[encoded data removed]",
      "text/plain": [
       "<Figure size 432x288 with 1 Axes>"
      ]
     },
     "metadata": {},
     "output_type": "display_data"
    }
   ],
   "source": [
    "# We want to visualize the trained model we trained \n",
    "# with the trained data \n",
    "\n",
    "plt.scatter(X_train, \n",
    "            y_train,\n",
    "           color = 'blue')\n",
    "plt.plot(X_train,\n",
    "         regressor.predict(X_train),\n",
    "        color = 'red')\n",
    "plt.xlabel('Temperature')\n",
    "plt.ylabel('Revenue')\n",
    "plt.title('Revenue Generated vs. Temperature @ Ice Cream Stand(For Training Set)')"
   ]
  },
  {
   "cell_type": "code",
   "execution_count": 57,
   "id": "5a4b0a2f",
   "metadata": {},
   "outputs": [
    {
     "data": {
      "text/plain": [
       "Text(0.5, 1.0, 'Revenue Generated vs. Temperature @ Ice Cream Stand(For Testing Set)')"
      ]
     },
     "execution_count": 57,
     "metadata": {},
     "output_type": "execute_result"
    },
    {
     "data": {
      "image/png": "[encoded data removed]",
      "text/plain": [
       "<Figure size 432x288 with 1 Axes>"
      ]
     },
     "metadata": {},
     "output_type": "display_data"
    }
   ],
   "source": [
    "# checking to set what would happen when we plot \n",
    "# using test data \n",
    "\n",
    "plt.scatter(X_test, \n",
    "            y_test,\n",
    "           color = 'black')\n",
    "plt.plot(X_test,\n",
    "         regressor.predict(X_test),\n",
    "        color = 'green')\n",
    "plt.xlabel('Temperature')\n",
    "plt.ylabel('Revenue')\n",
    "plt.title('Revenue Generated vs. Temperature @ Ice Cream Stand(For Testing Set)')"
   ]
  },
  {
   "cell_type": "markdown",
   "id": "c9667702",
   "metadata": {},
   "source": [
    "        OBVERSATION"
   ]
  },
  {
   "cell_type": "markdown",
   "id": "c254dc6b",
   "metadata": {},
   "source": [
    "        1. the line in both passes through the origin 0 since there is no intercept \n"
   ]
  },
  {
   "cell_type": "markdown",
   "id": "f2c76476",
   "metadata": {},
   "source": [
    "# RUNNING THE CODE BACK WITH Y INTERCEPT AS TRUE"
   ]
  },
  {
   "cell_type": "markdown",
   "id": "0f64287a",
   "metadata": {},
   "source": [
    "# Step 5: Train the model "
   ]
  },
  {
   "cell_type": "markdown",
   "id": "099e0079",
   "metadata": {},
   "source": [
    "Here, we would be training the splitted dataset"
   ]
  },
  {
   "cell_type": "code",
   "execution_count": 58,
   "id": "c642ccca",
   "metadata": {},
   "outputs": [
    {
     "data": {
      "text/plain": [
       "LinearRegression()"
      ]
     },
     "execution_count": 58,
     "metadata": {},
     "output_type": "execute_result"
    }
   ],
   "source": [
    "regressor = LinearRegression(fit_intercept = True)\n",
    "regressor.fit(X_train, y_train)"
   ]
  },
  {
   "cell_type": "code",
   "execution_count": 59,
   "id": "7a87e97b",
   "metadata": {},
   "outputs": [
    {
     "name": "stdout",
     "output_type": "stream",
     "text": [
      "Linear Model Coefficient(m):  [[21.38197386]]\n",
      "Linear Model Coefficient(b):  [46.80464128]\n"
     ]
    }
   ],
   "source": [
    "print('Linear Model Coefficient(m): ', regressor.coef_)\n",
    "print('Linear Model Coefficient(b): ', regressor.intercept_)"
   ]
  },
  {
   "cell_type": "markdown",
   "id": "e3d17ec7",
   "metadata": {},
   "source": [
    "# Step 6: Test the model"
   ]
  },
  {
   "cell_type": "markdown",
   "id": "1eb711d3",
   "metadata": {},
   "source": [
    "Here, we would be testing the model with the splitted testing dataset \n",
    "\n",
    "        And\n",
    "\n",
    "We would visualize the outcome "
   ]
  },
  {
   "cell_type": "markdown",
   "id": "15b1262b",
   "metadata": {},
   "source": [
    "    first, we are predicting the y using the set aside X_test dataset and our model (regressor) to predict it"
   ]
  },
  {
   "cell_type": "code",
   "execution_count": 60,
   "id": "b97a96e0",
   "metadata": {},
   "outputs": [
    {
     "data": {
      "text/html": [
       "<div>\n",
       "<style scoped>\n",
       "    .dataframe tbody tr th:only-of-type {\n",
       "        vertical-align: middle;\n",
       "    }\n",
       "\n",
       "    .dataframe tbody tr th {\n",
       "        vertical-align: top;\n",
       "    }\n",
       "\n",
       "    .dataframe thead th {\n",
       "        text-align: right;\n",
       "    }\n",
       "</style>\n",
       "<table border=\"1\" class=\"dataframe\">\n",
       "  <thead>\n",
       "    <tr style=\"text-align: right;\">\n",
       "      <th></th>\n",
       "      <th>Temperature</th>\n",
       "    </tr>\n",
       "  </thead>\n",
       "  <tbody>\n",
       "    <tr>\n",
       "      <th>361</th>\n",
       "      <td>29.704183</td>\n",
       "    </tr>\n",
       "    <tr>\n",
       "      <th>73</th>\n",
       "      <td>27.375401</td>\n",
       "    </tr>\n",
       "    <tr>\n",
       "      <th>374</th>\n",
       "      <td>23.984641</td>\n",
       "    </tr>\n",
       "    <tr>\n",
       "      <th>155</th>\n",
       "      <td>21.144047</td>\n",
       "    </tr>\n",
       "    <tr>\n",
       "      <th>104</th>\n",
       "      <td>26.595054</td>\n",
       "    </tr>\n",
       "    <tr>\n",
       "      <th>...</th>\n",
       "      <td>...</td>\n",
       "    </tr>\n",
       "    <tr>\n",
       "      <th>347</th>\n",
       "      <td>24.960446</td>\n",
       "    </tr>\n",
       "    <tr>\n",
       "      <th>86</th>\n",
       "      <td>27.780500</td>\n",
       "    </tr>\n",
       "    <tr>\n",
       "      <th>75</th>\n",
       "      <td>28.790101</td>\n",
       "    </tr>\n",
       "    <tr>\n",
       "      <th>438</th>\n",
       "      <td>17.132795</td>\n",
       "    </tr>\n",
       "    <tr>\n",
       "      <th>15</th>\n",
       "      <td>18.483141</td>\n",
       "    </tr>\n",
       "  </tbody>\n",
       "</table>\n",
       "<p>100 rows × 1 columns</p>\n",
       "</div>"
      ],
      "text/plain": [
       "     Temperature\n",
       "361    29.704183\n",
       "73     27.375401\n",
       "374    23.984641\n",
       "155    21.144047\n",
       "104    26.595054\n",
       "..           ...\n",
       "347    24.960446\n",
       "86     27.780500\n",
       "75     28.790101\n",
       "438    17.132795\n",
       "15     18.483141\n",
       "\n",
       "[100 rows x 1 columns]"
      ]
     },
     "execution_count": 60,
     "metadata": {},
     "output_type": "execute_result"
    }
   ],
   "source": [
    "# visualizing the X_test data\n",
    "\n",
    "X_test"
   ]
  },
  {
   "cell_type": "code",
   "execution_count": 61,
   "id": "a458f354",
   "metadata": {},
   "outputs": [],
   "source": [
    "# taking the regressor that contains the model \n",
    "# past along the predicting test \n",
    "\n",
    "\n",
    "y_predict = regressor.predict(X_test)"
   ]
  },
  {
   "cell_type": "code",
   "execution_count": 62,
   "id": "3e2546d1",
   "metadata": {},
   "outputs": [
    {
     "data": {
      "text/plain": [
       "array([[681.93870622],\n",
       "       [632.14474995],\n",
       "       [559.64360486],\n",
       "       [498.90609993],\n",
       "       [615.45939165],\n",
       "       [304.72417213],\n",
       "       [285.79420948],\n",
       "       [315.60842003],\n",
       "       [506.26427154],\n",
       "       [685.69744019],\n",
       "       [723.96030494],\n",
       "       [400.84625166],\n",
       "       [431.61634142],\n",
       "       [671.36600031],\n",
       "       [ 52.51422053],\n",
       "       [198.77682819],\n",
       "       [523.08595488],\n",
       "       [563.90495549],\n",
       "       [583.83579144],\n",
       "       [682.24517768],\n",
       "       [556.2285085 ],\n",
       "       [783.88766163],\n",
       "       [655.44109362],\n",
       "       [570.0735459 ],\n",
       "       [912.21841974],\n",
       "       [664.74778505],\n",
       "       [315.96428407],\n",
       "       [631.00983241],\n",
       "       [731.1169322 ],\n",
       "       [698.02984963],\n",
       "       [435.08453949],\n",
       "       [471.22058847],\n",
       "       [710.29440571],\n",
       "       [799.81874771],\n",
       "       [641.02153776],\n",
       "       [493.66044553],\n",
       "       [744.9247237 ],\n",
       "       [318.10831232],\n",
       "       [262.69083171],\n",
       "       [132.04437543],\n",
       "       [582.55738268],\n",
       "       [230.41054193],\n",
       "       [547.29799783],\n",
       "       [393.00654153],\n",
       "       [436.66704225],\n",
       "       [593.02780835],\n",
       "       [572.09312165],\n",
       "       [125.16251036],\n",
       "       [474.79444877],\n",
       "       [530.45025905],\n",
       "       [623.19251713],\n",
       "       [503.4813544 ],\n",
       "       [484.60103791],\n",
       "       [498.58705266],\n",
       "       [551.22738648],\n",
       "       [630.80646076],\n",
       "       [573.12703075],\n",
       "       [679.486141  ],\n",
       "       [171.29759926],\n",
       "       [660.49458416],\n",
       "       [583.75017395],\n",
       "       [704.57274239],\n",
       "       [535.82240023],\n",
       "       [630.12763484],\n",
       "       [676.79854535],\n",
       "       [411.36168509],\n",
       "       [508.88286115],\n",
       "       [494.71237942],\n",
       "       [731.12113825],\n",
       "       [312.64970607],\n",
       "       [318.45658383],\n",
       "       [454.48599433],\n",
       "       [795.88908859],\n",
       "       [424.3427197 ],\n",
       "       [520.47071347],\n",
       "       [688.86698747],\n",
       "       [804.96958246],\n",
       "       [448.21981638],\n",
       "       [493.70018478],\n",
       "       [493.61560689],\n",
       "       [546.05307987],\n",
       "       [520.86863586],\n",
       "       [663.24179618],\n",
       "       [547.66983485],\n",
       "       [589.3531778 ],\n",
       "       [697.41089087],\n",
       "       [239.06622088],\n",
       "       [626.63543807],\n",
       "       [585.44702174],\n",
       "       [768.32242947],\n",
       "       [428.92615255],\n",
       "       [522.0216248 ],\n",
       "       [610.64187899],\n",
       "       [353.88023698],\n",
       "       [562.40093312],\n",
       "       [580.5082378 ],\n",
       "       [640.80655591],\n",
       "       [662.39383884],\n",
       "       [413.13762416],\n",
       "       [442.01067869]])"
      ]
     },
     "execution_count": 62,
     "metadata": {},
     "output_type": "execute_result"
    }
   ],
   "source": [
    "# running the outcome\n",
    "\n",
    "y_predict"
   ]
  },
  {
   "cell_type": "code",
   "execution_count": 63,
   "id": "77cf318f",
   "metadata": {},
   "outputs": [
    {
     "data": {
      "text/plain": [
       "(100, 1)"
      ]
     },
     "execution_count": 63,
     "metadata": {},
     "output_type": "execute_result"
    }
   ],
   "source": [
    "y_predict.shape"
   ]
  },
  {
   "cell_type": "code",
   "execution_count": 64,
   "id": "11fc3c81",
   "metadata": {},
   "outputs": [
    {
     "data": {
      "text/html": [
       "<div>\n",
       "<style scoped>\n",
       "    .dataframe tbody tr th:only-of-type {\n",
       "        vertical-align: middle;\n",
       "    }\n",
       "\n",
       "    .dataframe tbody tr th {\n",
       "        vertical-align: top;\n",
       "    }\n",
       "\n",
       "    .dataframe thead th {\n",
       "        text-align: right;\n",
       "    }\n",
       "</style>\n",
       "<table border=\"1\" class=\"dataframe\">\n",
       "  <thead>\n",
       "    <tr style=\"text-align: right;\">\n",
       "      <th></th>\n",
       "      <th>Revenue</th>\n",
       "    </tr>\n",
       "  </thead>\n",
       "  <tbody>\n",
       "    <tr>\n",
       "      <th>361</th>\n",
       "      <td>659.873287</td>\n",
       "    </tr>\n",
       "    <tr>\n",
       "      <th>73</th>\n",
       "      <td>623.248701</td>\n",
       "    </tr>\n",
       "    <tr>\n",
       "      <th>374</th>\n",
       "      <td>559.135869</td>\n",
       "    </tr>\n",
       "    <tr>\n",
       "      <th>155</th>\n",
       "      <td>497.752318</td>\n",
       "    </tr>\n",
       "    <tr>\n",
       "      <th>104</th>\n",
       "      <td>627.901841</td>\n",
       "    </tr>\n",
       "    <tr>\n",
       "      <th>...</th>\n",
       "      <td>...</td>\n",
       "    </tr>\n",
       "    <tr>\n",
       "      <th>347</th>\n",
       "      <td>564.310532</td>\n",
       "    </tr>\n",
       "    <tr>\n",
       "      <th>86</th>\n",
       "      <td>643.944327</td>\n",
       "    </tr>\n",
       "    <tr>\n",
       "      <th>75</th>\n",
       "      <td>653.986736</td>\n",
       "    </tr>\n",
       "    <tr>\n",
       "      <th>438</th>\n",
       "      <td>412.082357</td>\n",
       "    </tr>\n",
       "    <tr>\n",
       "      <th>15</th>\n",
       "      <td>469.909033</td>\n",
       "    </tr>\n",
       "  </tbody>\n",
       "</table>\n",
       "<p>100 rows × 1 columns</p>\n",
       "</div>"
      ],
      "text/plain": [
       "        Revenue\n",
       "361  659.873287\n",
       "73   623.248701\n",
       "374  559.135869\n",
       "155  497.752318\n",
       "104  627.901841\n",
       "..          ...\n",
       "347  564.310532\n",
       "86   643.944327\n",
       "75   653.986736\n",
       "438  412.082357\n",
       "15   469.909033\n",
       "\n",
       "[100 rows x 1 columns]"
      ]
     },
     "execution_count": 64,
     "metadata": {},
     "output_type": "execute_result"
    }
   ],
   "source": [
    "# visualize y_test data for investigation\n",
    "\n",
    "y_test"
   ]
  },
  {
   "cell_type": "code",
   "execution_count": 65,
   "id": "d0a667e6",
   "metadata": {},
   "outputs": [
    {
     "data": {
      "text/plain": [
       "Text(0.5, 1.0, 'Revenue Generated vs. Temperature @ Ice Cream Stand(For Training Set)')"
      ]
     },
     "execution_count": 65,
     "metadata": {},
     "output_type": "execute_result"
    },
    {
     "data": {
      "image/png": "[encoded data removed]",
      "text/plain": [
       "<Figure size 432x288 with 1 Axes>"
      ]
     },
     "metadata": {},
     "output_type": "display_data"
    }
   ],
   "source": [
    "# VISUALIZING AND PLOTTING THE TRAINED DATA POINTS\n",
    "\n",
    "plt.scatter(X_train, \n",
    "            y_train,\n",
    "           color = 'blue')\n",
    "plt.xlabel('Temperature')\n",
    "plt.ylabel('Revenue')\n",
    "plt.title('Revenue Generated vs. Temperature @ Ice Cream Stand(For Training Set)')"
   ]
  },
  {
   "cell_type": "code",
   "execution_count": 66,
   "id": "31302a79",
   "metadata": {},
   "outputs": [
    {
     "data": {
      "text/plain": [
       "Text(0.5, 1.0, 'Revenue Generated vs. Temperature @ Ice Cream Stand(For Training Set)')"
      ]
     },
     "execution_count": 66,
     "metadata": {},
     "output_type": "execute_result"
    },
    {
     "data": {
      "image/png": "[encoded data removed]",
      "text/plain": [
       "<Figure size 432x288 with 1 Axes>"
      ]
     },
     "metadata": {},
     "output_type": "display_data"
    }
   ],
   "source": [
    "# We want to visualize the trained model we trained \n",
    "# with the trained data \n",
    "\n",
    "plt.scatter(X_train, \n",
    "            y_train,\n",
    "           color = 'blue')\n",
    "plt.plot(X_train,\n",
    "         regressor.predict(X_train),\n",
    "        color = 'red')\n",
    "plt.xlabel('Temperature')\n",
    "plt.ylabel('Revenue')\n",
    "plt.title('Revenue Generated vs. Temperature @ Ice Cream Stand(For Training Set)')"
   ]
  },
  {
   "cell_type": "code",
   "execution_count": 67,
   "id": "80ed60fa",
   "metadata": {},
   "outputs": [
    {
     "data": {
      "text/plain": [
       "Text(0.5, 1.0, 'Revenue Generated vs. Temperature @ Ice Cream Stand(For Testing Set)')"
      ]
     },
     "execution_count": 67,
     "metadata": {},
     "output_type": "execute_result"
    },
    {
     "data": {
      "image/png": "[encoded data removed]",
      "text/plain": [
       "<Figure size 432x288 with 1 Axes>"
      ]
     },
     "metadata": {},
     "output_type": "display_data"
    }
   ],
   "source": [
    "# checking to set what would happen when we plot \n",
    "# using test data \n",
    "\n",
    "plt.scatter(X_test, \n",
    "            y_test,\n",
    "           color = 'black')\n",
    "plt.plot(X_test,\n",
    "         regressor.predict(X_test),\n",
    "        color = 'green')\n",
    "plt.xlabel('Temperature')\n",
    "plt.ylabel('Revenue')\n",
    "plt.title('Revenue Generated vs. Temperature @ Ice Cream Stand(For Testing Set)')"
   ]
  },
  {
   "cell_type": "markdown",
   "id": "8e38b9ff",
   "metadata": {},
   "source": [
    "    1. the straight lines for both the training and test are similar to each other. \n",
    "    2. the dataset used to plot were fewer in testing plot than in training plot (which were more)\n",
    "    3. checking the values of the trained models (m and b) in the plotted graphs if they were in consonant with plotted outcome. THEY WERE ACTUALLY"
   ]
  },
  {
   "cell_type": "markdown",
   "id": "cc528e3b",
   "metadata": {},
   "source": [
    "# Predicting revenue using some random figures "
   ]
  },
  {
   "cell_type": "code",
   "execution_count": 68,
   "id": "609cc65e",
   "metadata": {},
   "outputs": [],
   "source": [
    "# Predicting what Revenue would be when we pass new\n",
    "# dataset as Temperature\n",
    "\n",
    "Temperature = [[40], [30]]\n",
    "Revenue = regressor.predict(Temperature)"
   ]
  },
  {
   "cell_type": "code",
   "execution_count": 69,
   "id": "01ce40a3",
   "metadata": {},
   "outputs": [
    {
     "data": {
      "text/plain": [
       "array([[902.08359549],\n",
       "       [688.26385694]])"
      ]
     },
     "execution_count": 69,
     "metadata": {},
     "output_type": "execute_result"
    }
   ],
   "source": [
    "Revenue"
   ]
  },
  {
   "cell_type": "code",
   "execution_count": 70,
   "id": "f7420b3c",
   "metadata": {},
   "outputs": [
    {
     "data": {
      "text/plain": [
       "array([[795.17372621],\n",
       "       [260.62437983],\n",
       "       [581.35398766]])"
      ]
     },
     "execution_count": 70,
     "metadata": {},
     "output_type": "execute_result"
    }
   ],
   "source": [
    "Temperature = [[35], [10], [25]]\n",
    "Revenue = regressor.predict(Temperature)\n",
    "Revenue"
   ]
  },
  {
   "cell_type": "markdown",
   "id": "56f03ade",
   "metadata": {},
   "source": [
    "    SO FAR, WITH THE RAN PREDICTIONS AND SAMPLES DATASET, THE MODEL WE CREATED WOULD ACCURATELY PREDICTS WHAT THE REVENUE OF EZEKEIL WOULD BE ON A DAILY BASIS DEPENDING ON THE TEMPERATURE VALUE"
   ]
  },
  {
   "cell_type": "markdown",
   "id": "1202d289",
   "metadata": {},
   "source": [
    "NOW, MR.EZEKEIL, FOR THE MOST PART, CAN PREDICT WHAT HIS REVENUE WOULD BE EACH DAY EVEN BEFORE STEPPING OUT FOR BUSINESS. HE COULD JUST FOLLOW WEATHER FORECAST PLATFORM, COPY THEIR WEATHER FORECAST FOR THE DAY, AND PREDICT HIS REVENUE SELLING ICE CREAM. THIS WOULD GUIDE HIS DECISION MAKING WHETHER TO SELL OR USE THE TIME TO FOR ANOTHER BUSINESS BEARING IN MIND THE REVENUE FROM BOTH."
   ]
  },
  {
   "cell_type": "markdown",
   "id": "f9dbfdf0",
   "metadata": {},
   "source": [
    "# Project Ends "
   ]
  }
 ],
 "metadata": {
  "kernelspec": {
   "display_name": "Python 3",
   "language": "python",
   "name": "python3"
  },
  "language_info": {
   "codemirror_mode": {
    "name": "ipython",
    "version": 3
   },
   "file_extension": ".py",
   "mimetype": "text/x-python",
   "name": "python",
   "nbconvert_exporter": "python",
   "pygments_lexer": "ipython3",
   "version": "3.8.8"
  }
 },
 "nbformat": 4,
 "nbformat_minor": 5
}
