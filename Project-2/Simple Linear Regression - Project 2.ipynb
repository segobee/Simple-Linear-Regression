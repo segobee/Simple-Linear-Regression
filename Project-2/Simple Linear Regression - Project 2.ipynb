{
 "cells": [
  {
   "cell_type": "markdown",
   "id": "b7b527de",
   "metadata": {},
   "source": [
    "# GOAL OF THIS PROJECT "
   ]
  },
  {
   "cell_type": "markdown",
   "id": "eb63070f",
   "metadata": {},
   "source": [
    "PERFORMING SIMPLE LINEAR REGRESSION ON FUEL CONSUMPTION"
   ]
  },
  {
   "cell_type": "markdown",
   "id": "4070b74f",
   "metadata": {},
   "source": [
    "# PROBLEM STATEMENT "
   ]
  },
  {
   "cell_type": "markdown",
   "id": "17794461",
   "metadata": {},
   "source": [
    "Banbanli is an Automotive Manufacturer based in India. They produce wide range of cars in numbers and qualities. The engines performance in the cars they produce is a function of the Vehicle Horse Power. \n",
    "\n",
    "Rising from the meeting of highest level management of Banbanli, they decided to investigate the relationship between a Volume of Vehicle Horse Power and it's Fuel Consumption. \n",
    "\n",
    "Bulk of the work falls on the lap of Dan, who is their in house Data Scientist. \n",
    "\n",
    "Dan decides to create a model that would investigate the relationship, and make some predictions.\n",
    "\n",
    "He then proceeds to gather dataset that guide his journey"
   ]
  },
  {
   "cell_type": "markdown",
   "id": "0b71ddde",
   "metadata": {},
   "source": [
    "# DATASET CONTENT"
   ]
  },
  {
   "cell_type": "markdown",
   "id": "b4cc7c1d",
   "metadata": {},
   "source": [
    "Dan was able to gather dataset for Vehicle Horse Power in relation to Fuel Consumption. \n",
    "\n",
    "In the dataset, we have two columns. Horse Power column, which represents the amount of Horse Power in different types of cars Banbanli produces. Fuel Economy (Milleage Per Gallon (MPG)) column, which represents the miles that would be convered per gallon of fuel if other factors that could affect it's movement remain constant. \n",
    "\n",
    "There is 100 rows in the dataset. These represent the values of both HP and FE in different types of cars\n",
    "\n",
    "    X (independent variable) => Vehicle Horse Power\n",
    "    Y (dependent variable) => Fuel Economy (MPG)"
   ]
  },
  {
   "cell_type": "markdown",
   "id": "4a700fcc",
   "metadata": {},
   "source": [
    "# DAN'S WORKFLOW"
   ]
  },
  {
   "cell_type": "markdown",
   "id": "b8a6f1d3",
   "metadata": {},
   "source": [
    "# Step 1: Libraries Import"
   ]
  },
  {
   "cell_type": "code",
   "execution_count": 1,
   "id": "7336410a",
   "metadata": {},
   "outputs": [],
   "source": [
    "import numpy as np\n",
    "import pandas as pd\n",
    "import seaborn as sns\n",
    "import matplotlib.pyplot as plt"
   ]
  },
  {
   "cell_type": "markdown",
   "id": "a33ee1e2",
   "metadata": {},
   "source": [
    "# Step 2: Import the Dataset"
   ]
  },
  {
   "cell_type": "code",
   "execution_count": 2,
   "id": "032448ed",
   "metadata": {},
   "outputs": [],
   "source": [
    "# importing and storing the data \n",
    "\n",
    "Fuel_economy = pd.read_csv('FuelEconomy.csv')"
   ]
  },
  {
   "cell_type": "code",
   "execution_count": 3,
   "id": "fdd5441c",
   "metadata": {},
   "outputs": [
    {
     "data": {
      "text/html": [
       "<div>\n",
       "<style scoped>\n",
       "    .dataframe tbody tr th:only-of-type {\n",
       "        vertical-align: middle;\n",
       "    }\n",
       "\n",
       "    .dataframe tbody tr th {\n",
       "        vertical-align: top;\n",
       "    }\n",
       "\n",
       "    .dataframe thead th {\n",
       "        text-align: right;\n",
       "    }\n",
       "</style>\n",
       "<table border=\"1\" class=\"dataframe\">\n",
       "  <thead>\n",
       "    <tr style=\"text-align: right;\">\n",
       "      <th></th>\n",
       "      <th>Horse Power</th>\n",
       "      <th>Fuel Economy (MPG)</th>\n",
       "    </tr>\n",
       "  </thead>\n",
       "  <tbody>\n",
       "    <tr>\n",
       "      <th>0</th>\n",
       "      <td>118.770799</td>\n",
       "      <td>29.344195</td>\n",
       "    </tr>\n",
       "    <tr>\n",
       "      <th>1</th>\n",
       "      <td>176.326567</td>\n",
       "      <td>24.695934</td>\n",
       "    </tr>\n",
       "    <tr>\n",
       "      <th>2</th>\n",
       "      <td>219.262465</td>\n",
       "      <td>23.952010</td>\n",
       "    </tr>\n",
       "    <tr>\n",
       "      <th>3</th>\n",
       "      <td>187.310009</td>\n",
       "      <td>23.384546</td>\n",
       "    </tr>\n",
       "    <tr>\n",
       "      <th>4</th>\n",
       "      <td>218.594340</td>\n",
       "      <td>23.426739</td>\n",
       "    </tr>\n",
       "    <tr>\n",
       "      <th>...</th>\n",
       "      <td>...</td>\n",
       "      <td>...</td>\n",
       "    </tr>\n",
       "    <tr>\n",
       "      <th>95</th>\n",
       "      <td>162.810542</td>\n",
       "      <td>27.418661</td>\n",
       "    </tr>\n",
       "    <tr>\n",
       "      <th>96</th>\n",
       "      <td>266.869640</td>\n",
       "      <td>15.989945</td>\n",
       "    </tr>\n",
       "    <tr>\n",
       "      <th>97</th>\n",
       "      <td>243.831211</td>\n",
       "      <td>19.253375</td>\n",
       "    </tr>\n",
       "    <tr>\n",
       "      <th>98</th>\n",
       "      <td>140.959803</td>\n",
       "      <td>29.515593</td>\n",
       "    </tr>\n",
       "    <tr>\n",
       "      <th>99</th>\n",
       "      <td>184.123053</td>\n",
       "      <td>25.196097</td>\n",
       "    </tr>\n",
       "  </tbody>\n",
       "</table>\n",
       "<p>100 rows × 2 columns</p>\n",
       "</div>"
      ],
      "text/plain": [
       "    Horse Power  Fuel Economy (MPG)\n",
       "0    118.770799           29.344195\n",
       "1    176.326567           24.695934\n",
       "2    219.262465           23.952010\n",
       "3    187.310009           23.384546\n",
       "4    218.594340           23.426739\n",
       "..          ...                 ...\n",
       "95   162.810542           27.418661\n",
       "96   266.869640           15.989945\n",
       "97   243.831211           19.253375\n",
       "98   140.959803           29.515593\n",
       "99   184.123053           25.196097\n",
       "\n",
       "[100 rows x 2 columns]"
      ]
     },
     "execution_count": 3,
     "metadata": {},
     "output_type": "execute_result"
    }
   ],
   "source": [
    "# reading the data\n",
    "\n",
    "Fuel_economy"
   ]
  },
  {
   "cell_type": "code",
   "execution_count": 4,
   "id": "27bdff3c",
   "metadata": {},
   "outputs": [
    {
     "data": {
      "text/html": [
       "<div>\n",
       "<style scoped>\n",
       "    .dataframe tbody tr th:only-of-type {\n",
       "        vertical-align: middle;\n",
       "    }\n",
       "\n",
       "    .dataframe tbody tr th {\n",
       "        vertical-align: top;\n",
       "    }\n",
       "\n",
       "    .dataframe thead th {\n",
       "        text-align: right;\n",
       "    }\n",
       "</style>\n",
       "<table border=\"1\" class=\"dataframe\">\n",
       "  <thead>\n",
       "    <tr style=\"text-align: right;\">\n",
       "      <th></th>\n",
       "      <th>Horse Power</th>\n",
       "      <th>Fuel Economy (MPG)</th>\n",
       "    </tr>\n",
       "  </thead>\n",
       "  <tbody>\n",
       "    <tr>\n",
       "      <th>95</th>\n",
       "      <td>162.810542</td>\n",
       "      <td>27.418661</td>\n",
       "    </tr>\n",
       "    <tr>\n",
       "      <th>96</th>\n",
       "      <td>266.869640</td>\n",
       "      <td>15.989945</td>\n",
       "    </tr>\n",
       "    <tr>\n",
       "      <th>97</th>\n",
       "      <td>243.831211</td>\n",
       "      <td>19.253375</td>\n",
       "    </tr>\n",
       "    <tr>\n",
       "      <th>98</th>\n",
       "      <td>140.959803</td>\n",
       "      <td>29.515593</td>\n",
       "    </tr>\n",
       "    <tr>\n",
       "      <th>99</th>\n",
       "      <td>184.123053</td>\n",
       "      <td>25.196097</td>\n",
       "    </tr>\n",
       "  </tbody>\n",
       "</table>\n",
       "</div>"
      ],
      "text/plain": [
       "    Horse Power  Fuel Economy (MPG)\n",
       "95   162.810542           27.418661\n",
       "96   266.869640           15.989945\n",
       "97   243.831211           19.253375\n",
       "98   140.959803           29.515593\n",
       "99   184.123053           25.196097"
      ]
     },
     "execution_count": 4,
     "metadata": {},
     "output_type": "execute_result"
    }
   ],
   "source": [
    "# Reading last five rows\n",
    "\n",
    "Fuel_economy.tail()"
   ]
  },
  {
   "cell_type": "code",
   "execution_count": 6,
   "id": "7daa41c3",
   "metadata": {},
   "outputs": [
    {
     "name": "stdout",
     "output_type": "stream",
     "text": [
      "<class 'pandas.core.frame.DataFrame'>\n",
      "RangeIndex: 100 entries, 0 to 99\n",
      "Data columns (total 2 columns):\n",
      " #   Column              Non-Null Count  Dtype  \n",
      "---  ------              --------------  -----  \n",
      " 0   Horse Power         100 non-null    float64\n",
      " 1   Fuel Economy (MPG)  100 non-null    float64\n",
      "dtypes: float64(2)\n",
      "memory usage: 1.7 KB\n"
     ]
    }
   ],
   "source": [
    "# checking the info of the dataset\n",
    "\n",
    "Fuel_economy.info()"
   ]
  },
  {
   "cell_type": "code",
   "execution_count": 7,
   "id": "de547a12",
   "metadata": {},
   "outputs": [
    {
     "data": {
      "text/html": [
       "<div>\n",
       "<style scoped>\n",
       "    .dataframe tbody tr th:only-of-type {\n",
       "        vertical-align: middle;\n",
       "    }\n",
       "\n",
       "    .dataframe tbody tr th {\n",
       "        vertical-align: top;\n",
       "    }\n",
       "\n",
       "    .dataframe thead th {\n",
       "        text-align: right;\n",
       "    }\n",
       "</style>\n",
       "<table border=\"1\" class=\"dataframe\">\n",
       "  <thead>\n",
       "    <tr style=\"text-align: right;\">\n",
       "      <th></th>\n",
       "      <th>Horse Power</th>\n",
       "      <th>Fuel Economy (MPG)</th>\n",
       "    </tr>\n",
       "  </thead>\n",
       "  <tbody>\n",
       "    <tr>\n",
       "      <th>count</th>\n",
       "      <td>100.000000</td>\n",
       "      <td>100.000000</td>\n",
       "    </tr>\n",
       "    <tr>\n",
       "      <th>mean</th>\n",
       "      <td>213.676190</td>\n",
       "      <td>23.178501</td>\n",
       "    </tr>\n",
       "    <tr>\n",
       "      <th>std</th>\n",
       "      <td>62.061726</td>\n",
       "      <td>4.701666</td>\n",
       "    </tr>\n",
       "    <tr>\n",
       "      <th>min</th>\n",
       "      <td>50.000000</td>\n",
       "      <td>10.000000</td>\n",
       "    </tr>\n",
       "    <tr>\n",
       "      <th>25%</th>\n",
       "      <td>174.996514</td>\n",
       "      <td>20.439516</td>\n",
       "    </tr>\n",
       "    <tr>\n",
       "      <th>50%</th>\n",
       "      <td>218.928402</td>\n",
       "      <td>23.143192</td>\n",
       "    </tr>\n",
       "    <tr>\n",
       "      <th>75%</th>\n",
       "      <td>251.706476</td>\n",
       "      <td>26.089933</td>\n",
       "    </tr>\n",
       "    <tr>\n",
       "      <th>max</th>\n",
       "      <td>350.000000</td>\n",
       "      <td>35.000000</td>\n",
       "    </tr>\n",
       "  </tbody>\n",
       "</table>\n",
       "</div>"
      ],
      "text/plain": [
       "       Horse Power  Fuel Economy (MPG)\n",
       "count   100.000000          100.000000\n",
       "mean    213.676190           23.178501\n",
       "std      62.061726            4.701666\n",
       "min      50.000000           10.000000\n",
       "25%     174.996514           20.439516\n",
       "50%     218.928402           23.143192\n",
       "75%     251.706476           26.089933\n",
       "max     350.000000           35.000000"
      ]
     },
     "execution_count": 7,
     "metadata": {},
     "output_type": "execute_result"
    }
   ],
   "source": [
    "# checking the statiscal summary of the dataset\n",
    "\n",
    "Fuel_economy.describe()"
   ]
  },
  {
   "cell_type": "markdown",
   "id": "034933a1",
   "metadata": {},
   "source": [
    "# Step 3: Visualizing the data "
   ]
  },
  {
   "cell_type": "code",
   "execution_count": 8,
   "id": "dfbb6c10",
   "metadata": {},
   "outputs": [
    {
     "data": {
      "text/plain": [
       "<seaborn.axisgrid.JointGrid at 0x7ffcc569b2b0>"
      ]
     },
     "execution_count": 8,
     "metadata": {},
     "output_type": "execute_result"
    },
    {
     "data": {
      "image/png": "[encoded data removed]",
      "text/plain": [
       "<Figure size 432x432 with 3 Axes>"
      ]
     },
     "metadata": {
      "needs_background": "light"
     },
     "output_type": "display_data"
    }
   ],
   "source": [
    "# Visualizing the data USING SEABORN\n",
    "\n",
    "sns.jointplot(x= 'Horse Power',\n",
    "             y = 'Fuel Economy (MPG)',\n",
    "             data = Fuel_economy,\n",
    "             color = 'purple')"
   ]
  },
  {
   "cell_type": "code",
   "execution_count": 9,
   "id": "190f632f",
   "metadata": {},
   "outputs": [
    {
     "data": {
      "text/plain": [
       "Text(0, 0.5, 'Fuel Economy (MPG)')"
      ]
     },
     "execution_count": 9,
     "metadata": {},
     "output_type": "execute_result"
    },
    {
     "data": {
      "image/png": "[encoded data removed]",
      "text/plain": [
       "<Figure size 864x576 with 1 Axes>"
      ]
     },
     "metadata": {
      "needs_background": "light"
     },
     "output_type": "display_data"
    }
   ],
   "source": [
    "# OR PLOTTING USING MATPLOTLIB\n",
    "\n",
    "# to avoid over plotting we want to add alpha parameter\n",
    "# alpha parameter takes values between 0 and 1\n",
    "\n",
    "plt.figure(figsize = (12,8 ))\n",
    "sns.set_style('white')\n",
    "plt.scatter(Fuel_economy['Horse Power'],\n",
    "           Fuel_economy['Fuel Economy (MPG)'],\n",
    "           alpha = 0.8)\n",
    "plt.title('Relationship Between Horse Power & Fuel Economy (MPG)',\n",
    "         fontsize = 20,\n",
    "         weight = 'bold')\n",
    "plt.xlabel('Temperatue', fontsize = 14, weight = 'bold')\n",
    "plt.ylabel(\"Fuel Economy (MPG)\", fontsize = 14, weight = 'bold')"
   ]
  },
  {
   "cell_type": "code",
   "execution_count": 10,
   "id": "671540ec",
   "metadata": {},
   "outputs": [
    {
     "data": {
      "text/plain": [
       "<seaborn.axisgrid.JointGrid at 0x7ffcc68d6940>"
      ]
     },
     "execution_count": 10,
     "metadata": {},
     "output_type": "execute_result"
    },
    {
     "data": {
      "image/png": "[encoded data removed]",
      "text/plain": [
       "<Figure size 432x432 with 3 Axes>"
      ]
     },
     "metadata": {},
     "output_type": "display_data"
    }
   ],
   "source": [
    "# inter-changing the axis and plotting \n",
    "\n",
    "sns.jointplot(y= 'Horse Power',\n",
    "              x= 'Fuel Economy (MPG)',\n",
    "             data = Fuel_economy,\n",
    "             color = 'purple')"
   ]
  },
  {
   "cell_type": "code",
   "execution_count": 11,
   "id": "66b366e1",
   "metadata": {},
   "outputs": [
    {
     "data": {
      "text/plain": [
       "<seaborn.axisgrid.PairGrid at 0x7ffcc6881850>"
      ]
     },
     "execution_count": 11,
     "metadata": {},
     "output_type": "execute_result"
    },
    {
     "data": {
      "image/png": "[encoded data removed]",
      "text/plain": [
       "<Figure size 360x360 with 6 Axes>"
      ]
     },
     "metadata": {},
     "output_type": "display_data"
    }
   ],
   "source": [
    "# using pairplotting tool in seaborn to plot \n",
    "\n",
    "sns.pairplot(Fuel_economy)"
   ]
  },
  {
   "cell_type": "code",
   "execution_count": 13,
   "id": "70993bc2",
   "metadata": {},
   "outputs": [
    {
     "data": {
      "text/plain": [
       "<seaborn.axisgrid.FacetGrid at 0x7ffcc8014490>"
      ]
     },
     "execution_count": 13,
     "metadata": {},
     "output_type": "execute_result"
    },
    {
     "data": {
      "image/png": "[encoded data removed]",
      "text/plain": [
       "<Figure size 360x360 with 1 Axes>"
      ]
     },
     "metadata": {},
     "output_type": "display_data"
    }
   ],
   "source": [
    "# using lmplot tool in seaborn \n",
    "\n",
    "sns.lmplot(x= 'Horse Power',\n",
    "             y = 'Fuel Economy (MPG)',\n",
    "             data = Fuel_economy)"
   ]
  },
  {
   "cell_type": "markdown",
   "id": "1bbffd30",
   "metadata": {},
   "source": [
    "        this helps us plot the line that goes through the data points\n",
    "        \n",
    "        it would gives a quick insight if the line drawn is a good fit for the data \n",
    "        "
   ]
  },
  {
   "cell_type": "code",
   "execution_count": 14,
   "id": "18fa4c4b",
   "metadata": {},
   "outputs": [
    {
     "data": {
      "text/plain": [
       "<seaborn.axisgrid.FacetGrid at 0x7ffcc80140d0>"
      ]
     },
     "execution_count": 14,
     "metadata": {},
     "output_type": "execute_result"
    },
    {
     "data": {
      "image/png": "[encoded data removed]",
      "text/plain": [
       "<Figure size 360x360 with 1 Axes>"
      ]
     },
     "metadata": {},
     "output_type": "display_data"
    }
   ],
   "source": [
    "# intercharging the axis and plot using lmplot\n",
    "\n",
    "sns.lmplot(y= 'Horse Power',\n",
    "             x = 'Fuel Economy (MPG)',\n",
    "             data = Fuel_economy)"
   ]
  },
  {
   "cell_type": "markdown",
   "id": "fb6c060c",
   "metadata": {},
   "source": [
    "# Step 4: Creating Training and Testing Dataset"
   ]
  },
  {
   "cell_type": "code",
   "execution_count": 15,
   "id": "e0e4049f",
   "metadata": {},
   "outputs": [
    {
     "data": {
      "text/html": [
       "<div>\n",
       "<style scoped>\n",
       "    .dataframe tbody tr th:only-of-type {\n",
       "        vertical-align: middle;\n",
       "    }\n",
       "\n",
       "    .dataframe tbody tr th {\n",
       "        vertical-align: top;\n",
       "    }\n",
       "\n",
       "    .dataframe thead th {\n",
       "        text-align: right;\n",
       "    }\n",
       "</style>\n",
       "<table border=\"1\" class=\"dataframe\">\n",
       "  <thead>\n",
       "    <tr style=\"text-align: right;\">\n",
       "      <th></th>\n",
       "      <th>Horse Power</th>\n",
       "      <th>Fuel Economy (MPG)</th>\n",
       "    </tr>\n",
       "  </thead>\n",
       "  <tbody>\n",
       "    <tr>\n",
       "      <th>0</th>\n",
       "      <td>118.770799</td>\n",
       "      <td>29.344195</td>\n",
       "    </tr>\n",
       "    <tr>\n",
       "      <th>1</th>\n",
       "      <td>176.326567</td>\n",
       "      <td>24.695934</td>\n",
       "    </tr>\n",
       "    <tr>\n",
       "      <th>2</th>\n",
       "      <td>219.262465</td>\n",
       "      <td>23.952010</td>\n",
       "    </tr>\n",
       "    <tr>\n",
       "      <th>3</th>\n",
       "      <td>187.310009</td>\n",
       "      <td>23.384546</td>\n",
       "    </tr>\n",
       "    <tr>\n",
       "      <th>4</th>\n",
       "      <td>218.594340</td>\n",
       "      <td>23.426739</td>\n",
       "    </tr>\n",
       "    <tr>\n",
       "      <th>...</th>\n",
       "      <td>...</td>\n",
       "      <td>...</td>\n",
       "    </tr>\n",
       "    <tr>\n",
       "      <th>95</th>\n",
       "      <td>162.810542</td>\n",
       "      <td>27.418661</td>\n",
       "    </tr>\n",
       "    <tr>\n",
       "      <th>96</th>\n",
       "      <td>266.869640</td>\n",
       "      <td>15.989945</td>\n",
       "    </tr>\n",
       "    <tr>\n",
       "      <th>97</th>\n",
       "      <td>243.831211</td>\n",
       "      <td>19.253375</td>\n",
       "    </tr>\n",
       "    <tr>\n",
       "      <th>98</th>\n",
       "      <td>140.959803</td>\n",
       "      <td>29.515593</td>\n",
       "    </tr>\n",
       "    <tr>\n",
       "      <th>99</th>\n",
       "      <td>184.123053</td>\n",
       "      <td>25.196097</td>\n",
       "    </tr>\n",
       "  </tbody>\n",
       "</table>\n",
       "<p>100 rows × 2 columns</p>\n",
       "</div>"
      ],
      "text/plain": [
       "    Horse Power  Fuel Economy (MPG)\n",
       "0    118.770799           29.344195\n",
       "1    176.326567           24.695934\n",
       "2    219.262465           23.952010\n",
       "3    187.310009           23.384546\n",
       "4    218.594340           23.426739\n",
       "..          ...                 ...\n",
       "95   162.810542           27.418661\n",
       "96   266.869640           15.989945\n",
       "97   243.831211           19.253375\n",
       "98   140.959803           29.515593\n",
       "99   184.123053           25.196097\n",
       "\n",
       "[100 rows x 2 columns]"
      ]
     },
     "execution_count": 15,
     "metadata": {},
     "output_type": "execute_result"
    }
   ],
   "source": [
    "# Dividing our dataset features into X and Y\n",
    "\n",
    "Fuel_economy"
   ]
  },
  {
   "cell_type": "code",
   "execution_count": 16,
   "id": "617434fc",
   "metadata": {},
   "outputs": [],
   "source": [
    "# Horse Power to variable X as Independent Variable \n",
    "\n",
    "X = Fuel_economy[['Horse Power']]"
   ]
  },
  {
   "cell_type": "code",
   "execution_count": 17,
   "id": "299ce0ae",
   "metadata": {},
   "outputs": [
    {
     "data": {
      "text/html": [
       "<div>\n",
       "<style scoped>\n",
       "    .dataframe tbody tr th:only-of-type {\n",
       "        vertical-align: middle;\n",
       "    }\n",
       "\n",
       "    .dataframe tbody tr th {\n",
       "        vertical-align: top;\n",
       "    }\n",
       "\n",
       "    .dataframe thead th {\n",
       "        text-align: right;\n",
       "    }\n",
       "</style>\n",
       "<table border=\"1\" class=\"dataframe\">\n",
       "  <thead>\n",
       "    <tr style=\"text-align: right;\">\n",
       "      <th></th>\n",
       "      <th>Horse Power</th>\n",
       "    </tr>\n",
       "  </thead>\n",
       "  <tbody>\n",
       "    <tr>\n",
       "      <th>0</th>\n",
       "      <td>118.770799</td>\n",
       "    </tr>\n",
       "    <tr>\n",
       "      <th>1</th>\n",
       "      <td>176.326567</td>\n",
       "    </tr>\n",
       "    <tr>\n",
       "      <th>2</th>\n",
       "      <td>219.262465</td>\n",
       "    </tr>\n",
       "    <tr>\n",
       "      <th>3</th>\n",
       "      <td>187.310009</td>\n",
       "    </tr>\n",
       "    <tr>\n",
       "      <th>4</th>\n",
       "      <td>218.594340</td>\n",
       "    </tr>\n",
       "    <tr>\n",
       "      <th>...</th>\n",
       "      <td>...</td>\n",
       "    </tr>\n",
       "    <tr>\n",
       "      <th>95</th>\n",
       "      <td>162.810542</td>\n",
       "    </tr>\n",
       "    <tr>\n",
       "      <th>96</th>\n",
       "      <td>266.869640</td>\n",
       "    </tr>\n",
       "    <tr>\n",
       "      <th>97</th>\n",
       "      <td>243.831211</td>\n",
       "    </tr>\n",
       "    <tr>\n",
       "      <th>98</th>\n",
       "      <td>140.959803</td>\n",
       "    </tr>\n",
       "    <tr>\n",
       "      <th>99</th>\n",
       "      <td>184.123053</td>\n",
       "    </tr>\n",
       "  </tbody>\n",
       "</table>\n",
       "<p>100 rows × 1 columns</p>\n",
       "</div>"
      ],
      "text/plain": [
       "    Horse Power\n",
       "0    118.770799\n",
       "1    176.326567\n",
       "2    219.262465\n",
       "3    187.310009\n",
       "4    218.594340\n",
       "..          ...\n",
       "95   162.810542\n",
       "96   266.869640\n",
       "97   243.831211\n",
       "98   140.959803\n",
       "99   184.123053\n",
       "\n",
       "[100 rows x 1 columns]"
      ]
     },
     "execution_count": 17,
     "metadata": {},
     "output_type": "execute_result"
    }
   ],
   "source": [
    "X"
   ]
  },
  {
   "cell_type": "code",
   "execution_count": 18,
   "id": "51208cfe",
   "metadata": {},
   "outputs": [
    {
     "data": {
      "text/plain": [
       "0     29.344195\n",
       "1     24.695934\n",
       "2     23.952010\n",
       "3     23.384546\n",
       "4     23.426739\n",
       "        ...    \n",
       "95    27.418661\n",
       "96    15.989945\n",
       "97    19.253375\n",
       "98    29.515593\n",
       "99    25.196097\n",
       "Name: Fuel Economy (MPG), Length: 100, dtype: float64"
      ]
     },
     "execution_count": 18,
     "metadata": {},
     "output_type": "execute_result"
    }
   ],
   "source": [
    "# Fuel Economy (MPG) to y variable as dependent variable\n",
    "\n",
    "y = Fuel_economy['Fuel Economy (MPG)']\n",
    "y"
   ]
  },
  {
   "cell_type": "markdown",
   "id": "fc1aee14",
   "metadata": {},
   "source": [
    "Now we want to divide our dataset into training and testing "
   ]
  },
  {
   "cell_type": "code",
   "execution_count": 20,
   "id": "6180ae37",
   "metadata": {},
   "outputs": [],
   "source": [
    "# we would be using scikit learn to divide the dataset\n",
    "\n",
    "from sklearn.model_selection import train_test_split\n",
    "\n",
    "# this would help in dividing our dataset"
   ]
  },
  {
   "cell_type": "code",
   "execution_count": 22,
   "id": "fc4ba610",
   "metadata": {},
   "outputs": [],
   "source": [
    "X_train, X_test, y_train, y_test = train_test_split(\n",
    "X, y, test_size=0.3, random_state=42)"
   ]
  },
  {
   "cell_type": "code",
   "execution_count": 23,
   "id": "bfb6a992",
   "metadata": {},
   "outputs": [
    {
     "data": {
      "text/html": [
       "<div>\n",
       "<style scoped>\n",
       "    .dataframe tbody tr th:only-of-type {\n",
       "        vertical-align: middle;\n",
       "    }\n",
       "\n",
       "    .dataframe tbody tr th {\n",
       "        vertical-align: top;\n",
       "    }\n",
       "\n",
       "    .dataframe thead th {\n",
       "        text-align: right;\n",
       "    }\n",
       "</style>\n",
       "<table border=\"1\" class=\"dataframe\">\n",
       "  <thead>\n",
       "    <tr style=\"text-align: right;\">\n",
       "      <th></th>\n",
       "      <th>Horse Power</th>\n",
       "    </tr>\n",
       "  </thead>\n",
       "  <tbody>\n",
       "    <tr>\n",
       "      <th>11</th>\n",
       "      <td>120.484236</td>\n",
       "    </tr>\n",
       "    <tr>\n",
       "      <th>47</th>\n",
       "      <td>244.358343</td>\n",
       "    </tr>\n",
       "    <tr>\n",
       "      <th>85</th>\n",
       "      <td>238.836490</td>\n",
       "    </tr>\n",
       "    <tr>\n",
       "      <th>28</th>\n",
       "      <td>91.440264</td>\n",
       "    </tr>\n",
       "    <tr>\n",
       "      <th>93</th>\n",
       "      <td>131.542116</td>\n",
       "    </tr>\n",
       "    <tr>\n",
       "      <th>...</th>\n",
       "      <td>...</td>\n",
       "    </tr>\n",
       "    <tr>\n",
       "      <th>60</th>\n",
       "      <td>230.462677</td>\n",
       "    </tr>\n",
       "    <tr>\n",
       "      <th>71</th>\n",
       "      <td>299.530458</td>\n",
       "    </tr>\n",
       "    <tr>\n",
       "      <th>14</th>\n",
       "      <td>211.729109</td>\n",
       "    </tr>\n",
       "    <tr>\n",
       "      <th>92</th>\n",
       "      <td>227.380124</td>\n",
       "    </tr>\n",
       "    <tr>\n",
       "      <th>51</th>\n",
       "      <td>290.887200</td>\n",
       "    </tr>\n",
       "  </tbody>\n",
       "</table>\n",
       "<p>70 rows × 1 columns</p>\n",
       "</div>"
      ],
      "text/plain": [
       "    Horse Power\n",
       "11   120.484236\n",
       "47   244.358343\n",
       "85   238.836490\n",
       "28    91.440264\n",
       "93   131.542116\n",
       "..          ...\n",
       "60   230.462677\n",
       "71   299.530458\n",
       "14   211.729109\n",
       "92   227.380124\n",
       "51   290.887200\n",
       "\n",
       "[70 rows x 1 columns]"
      ]
     },
     "execution_count": 23,
     "metadata": {},
     "output_type": "execute_result"
    }
   ],
   "source": [
    "X_train"
   ]
  },
  {
   "cell_type": "code",
   "execution_count": 25,
   "id": "96f28d98",
   "metadata": {},
   "outputs": [
    {
     "data": {
      "text/html": [
       "<div>\n",
       "<style scoped>\n",
       "    .dataframe tbody tr th:only-of-type {\n",
       "        vertical-align: middle;\n",
       "    }\n",
       "\n",
       "    .dataframe tbody tr th {\n",
       "        vertical-align: top;\n",
       "    }\n",
       "\n",
       "    .dataframe thead th {\n",
       "        text-align: right;\n",
       "    }\n",
       "</style>\n",
       "<table border=\"1\" class=\"dataframe\">\n",
       "  <thead>\n",
       "    <tr style=\"text-align: right;\">\n",
       "      <th></th>\n",
       "      <th>Horse Power</th>\n",
       "    </tr>\n",
       "  </thead>\n",
       "  <tbody>\n",
       "    <tr>\n",
       "      <th>15</th>\n",
       "      <td>259.183192</td>\n",
       "    </tr>\n",
       "    <tr>\n",
       "      <th>40</th>\n",
       "      <td>218.107081</td>\n",
       "    </tr>\n",
       "    <tr>\n",
       "      <th>96</th>\n",
       "      <td>266.869640</td>\n",
       "    </tr>\n",
       "    <tr>\n",
       "      <th>9</th>\n",
       "      <td>163.350335</td>\n",
       "    </tr>\n",
       "    <tr>\n",
       "      <th>72</th>\n",
       "      <td>175.348913</td>\n",
       "    </tr>\n",
       "  </tbody>\n",
       "</table>\n",
       "</div>"
      ],
      "text/plain": [
       "    Horse Power\n",
       "15   259.183192\n",
       "40   218.107081\n",
       "96   266.869640\n",
       "9    163.350335\n",
       "72   175.348913"
      ]
     },
     "execution_count": 25,
     "metadata": {},
     "output_type": "execute_result"
    }
   ],
   "source": [
    "X_test.tail()"
   ]
  },
  {
   "cell_type": "markdown",
   "id": "4176e9f1",
   "metadata": {},
   "source": [
    "THE DATA HAS BEEN SPLITTED TO 70/30 % FOR TRAINING AND TESTING"
   ]
  },
  {
   "cell_type": "code",
   "execution_count": 26,
   "id": "f2f9f172",
   "metadata": {},
   "outputs": [
    {
     "data": {
      "text/plain": [
       "11    29.678637\n",
       "47    19.536770\n",
       "85    19.674094\n",
       "28    31.806706\n",
       "93    29.397567\n",
       "        ...    \n",
       "60    20.715722\n",
       "71    16.693369\n",
       "14    25.341892\n",
       "92    24.181109\n",
       "51    17.873266\n",
       "Name: Fuel Economy (MPG), Length: 70, dtype: float64"
      ]
     },
     "execution_count": 26,
     "metadata": {},
     "output_type": "execute_result"
    }
   ],
   "source": [
    "y_train"
   ]
  },
  {
   "cell_type": "code",
   "execution_count": 27,
   "id": "54440a92",
   "metadata": {},
   "outputs": [
    {
     "data": {
      "text/plain": [
       "83    21.216359\n",
       "53    20.291766\n",
       "70    23.307192\n",
       "45    26.778148\n",
       "44    21.205987\n",
       "39    20.407571\n",
       "22    31.796612\n",
       "80    23.172223\n",
       "10    17.300628\n",
       "0     29.344195\n",
       "18    29.393330\n",
       "30    14.589079\n",
       "73    21.050399\n",
       "33    15.676316\n",
       "90    19.723462\n",
       "4     23.426739\n",
       "76    22.183092\n",
       "77    15.441711\n",
       "12    27.294930\n",
       "31    26.188478\n",
       "55    23.011194\n",
       "88    24.826199\n",
       "26    21.167343\n",
       "42    21.442703\n",
       "69    16.831188\n",
       "15    20.467374\n",
       "40    23.299372\n",
       "96    15.989945\n",
       "9     28.289516\n",
       "72    26.057085\n",
       "Name: Fuel Economy (MPG), dtype: float64"
      ]
     },
     "execution_count": 27,
     "metadata": {},
     "output_type": "execute_result"
    }
   ],
   "source": [
    "y_test"
   ]
  },
  {
   "cell_type": "code",
   "execution_count": 29,
   "id": "efbc7c6d",
   "metadata": {},
   "outputs": [
    {
     "data": {
      "text/plain": [
       "(70, 1)"
      ]
     },
     "execution_count": 29,
     "metadata": {},
     "output_type": "execute_result"
    }
   ],
   "source": [
    "X_train.shape"
   ]
  },
  {
   "cell_type": "code",
   "execution_count": 30,
   "id": "c8120239",
   "metadata": {},
   "outputs": [
    {
     "data": {
      "text/plain": [
       "(70,)"
      ]
     },
     "execution_count": 30,
     "metadata": {},
     "output_type": "execute_result"
    }
   ],
   "source": [
    "y_train.shape"
   ]
  },
  {
   "cell_type": "code",
   "execution_count": 32,
   "id": "e53384f0",
   "metadata": {},
   "outputs": [
    {
     "data": {
      "text/plain": [
       "(30, 1)"
      ]
     },
     "execution_count": 32,
     "metadata": {},
     "output_type": "execute_result"
    }
   ],
   "source": [
    "X_test.shape"
   ]
  },
  {
   "cell_type": "code",
   "execution_count": 33,
   "id": "803d7bfc",
   "metadata": {},
   "outputs": [
    {
     "data": {
      "text/plain": [
       "(30,)"
      ]
     },
     "execution_count": 33,
     "metadata": {},
     "output_type": "execute_result"
    }
   ],
   "source": [
    "y_test.shape"
   ]
  },
  {
   "cell_type": "markdown",
   "id": "355ceab9",
   "metadata": {},
   "source": [
    "# Step 5: Train the model "
   ]
  },
  {
   "cell_type": "markdown",
   "id": "8052c56a",
   "metadata": {},
   "source": [
    "    Here, we would be training the splitted dataset"
   ]
  },
  {
   "cell_type": "code",
   "execution_count": 35,
   "id": "cf902ec1",
   "metadata": {},
   "outputs": [
    {
     "data": {
      "text/plain": [
       "LinearRegression()"
      ]
     },
     "execution_count": 35,
     "metadata": {},
     "output_type": "execute_result"
    }
   ],
   "source": [
    "# sklearn makes the training possible\n",
    "# so we would import linearRegression from sklearn\n",
    "\n",
    "from sklearn.linear_model import LinearRegression\n",
    "regressor = LinearRegression(fit_intercept = True)\n",
    "regressor.fit(X_train, y_train)"
   ]
  },
  {
   "cell_type": "code",
   "execution_count": 36,
   "id": "4554e641",
   "metadata": {},
   "outputs": [
    {
     "name": "stdout",
     "output_type": "stream",
     "text": [
      "Linear Model Coefficient(m):  [-0.0732172]\n",
      "Linear Model Coefficient(b):  38.83895884102217\n"
     ]
    }
   ],
   "source": [
    "print('Linear Model Coefficient(m): ', regressor.coef_)\n",
    "print('Linear Model Coefficient(b): ', regressor.intercept_)"
   ]
  },
  {
   "cell_type": "markdown",
   "id": "53d5ec7f",
   "metadata": {},
   "source": [
    "    FROM THE MODEL TRAINED, IT TELLS US THAT THERE IS INVERSE RELATIONSHIP BETWEEN X_TRAIN AND Y_TRAIN"
   ]
  },
  {
   "cell_type": "markdown",
   "id": "a221be3c",
   "metadata": {},
   "source": [
    "# Step 6: Test the model"
   ]
  },
  {
   "cell_type": "markdown",
   "id": "bb9e07cd",
   "metadata": {},
   "source": [
    "Here, we would be testing the model with the splitted testing dataset \n",
    "\n",
    "        And\n",
    "\n",
    "We would visualize the outcome "
   ]
  },
  {
   "cell_type": "markdown",
   "id": "4ab52d85",
   "metadata": {},
   "source": [
    "    first, we are predicting the y using the set aside X_test dataset and our model (regressor) to predict it"
   ]
  },
  {
   "cell_type": "code",
   "execution_count": 38,
   "id": "a69f8698",
   "metadata": {},
   "outputs": [
    {
     "data": {
      "text/html": [
       "<div>\n",
       "<style scoped>\n",
       "    .dataframe tbody tr th:only-of-type {\n",
       "        vertical-align: middle;\n",
       "    }\n",
       "\n",
       "    .dataframe tbody tr th {\n",
       "        vertical-align: top;\n",
       "    }\n",
       "\n",
       "    .dataframe thead th {\n",
       "        text-align: right;\n",
       "    }\n",
       "</style>\n",
       "<table border=\"1\" class=\"dataframe\">\n",
       "  <thead>\n",
       "    <tr style=\"text-align: right;\">\n",
       "      <th></th>\n",
       "      <th>Horse Power</th>\n",
       "    </tr>\n",
       "  </thead>\n",
       "  <tbody>\n",
       "    <tr>\n",
       "      <th>15</th>\n",
       "      <td>259.183192</td>\n",
       "    </tr>\n",
       "    <tr>\n",
       "      <th>40</th>\n",
       "      <td>218.107081</td>\n",
       "    </tr>\n",
       "    <tr>\n",
       "      <th>96</th>\n",
       "      <td>266.869640</td>\n",
       "    </tr>\n",
       "    <tr>\n",
       "      <th>9</th>\n",
       "      <td>163.350335</td>\n",
       "    </tr>\n",
       "    <tr>\n",
       "      <th>72</th>\n",
       "      <td>175.348913</td>\n",
       "    </tr>\n",
       "  </tbody>\n",
       "</table>\n",
       "</div>"
      ],
      "text/plain": [
       "    Horse Power\n",
       "15   259.183192\n",
       "40   218.107081\n",
       "96   266.869640\n",
       "9    163.350335\n",
       "72   175.348913"
      ]
     },
     "execution_count": 38,
     "metadata": {},
     "output_type": "execute_result"
    }
   ],
   "source": [
    "# reading the X_test data\n",
    "\n",
    "X_test.tail()"
   ]
  },
  {
   "cell_type": "code",
   "execution_count": 39,
   "id": "4b249225",
   "metadata": {},
   "outputs": [],
   "source": [
    "# taking the regressor that contains the model \n",
    "# past along the predicting test \n",
    "\n",
    "\n",
    "y_predict = regressor.predict(X_test)\n"
   ]
  },
  {
   "cell_type": "code",
   "execution_count": 40,
   "id": "d2204114",
   "metadata": {},
   "outputs": [
    {
     "data": {
      "text/plain": [
       "array([21.83671023, 20.48272796, 22.49837094, 29.1252651 , 22.16956598,\n",
       "       20.34778156, 29.90352055, 24.2717891 , 15.27468173, 30.1428941 ,\n",
       "       29.76839551, 13.21294058, 19.66688184, 18.14746862, 21.43720221,\n",
       "       22.83409445, 23.13500589, 15.3398007 , 27.45988156, 25.95425402,\n",
       "       24.25792738, 23.93401332, 19.91786208, 20.99320166, 15.71568747,\n",
       "       19.86229256, 22.86977015, 19.29951239, 26.87890553, 26.00040328])"
      ]
     },
     "execution_count": 40,
     "metadata": {},
     "output_type": "execute_result"
    }
   ],
   "source": [
    "y_predict"
   ]
  },
  {
   "cell_type": "code",
   "execution_count": 50,
   "id": "752a70e2",
   "metadata": {},
   "outputs": [
    {
     "data": {
      "text/plain": [
       "83    21.216359\n",
       "53    20.291766\n",
       "70    23.307192\n",
       "45    26.778148\n",
       "44    21.205987\n",
       "39    20.407571\n",
       "22    31.796612\n",
       "80    23.172223\n",
       "10    17.300628\n",
       "0     29.344195\n",
       "18    29.393330\n",
       "30    14.589079\n",
       "73    21.050399\n",
       "33    15.676316\n",
       "90    19.723462\n",
       "4     23.426739\n",
       "76    22.183092\n",
       "77    15.441711\n",
       "12    27.294930\n",
       "31    26.188478\n",
       "55    23.011194\n",
       "88    24.826199\n",
       "26    21.167343\n",
       "42    21.442703\n",
       "69    16.831188\n",
       "15    20.467374\n",
       "40    23.299372\n",
       "96    15.989945\n",
       "9     28.289516\n",
       "72    26.057085\n",
       "Name: Fuel Economy (MPG), dtype: float64"
      ]
     },
     "execution_count": 50,
     "metadata": {},
     "output_type": "execute_result"
    }
   ],
   "source": [
    "y_test"
   ]
  },
  {
   "cell_type": "code",
   "execution_count": 41,
   "id": "cef73a78",
   "metadata": {},
   "outputs": [
    {
     "data": {
      "text/plain": [
       "(30,)"
      ]
     },
     "execution_count": 41,
     "metadata": {},
     "output_type": "execute_result"
    }
   ],
   "source": [
    "y_predict.shape"
   ]
  },
  {
   "cell_type": "code",
   "execution_count": 43,
   "id": "fdaf5711",
   "metadata": {},
   "outputs": [
    {
     "data": {
      "text/plain": [
       "Text(0.5, 1.0, 'Relationship Between Horse Power & Fuel Economy (MPG) (For Training Set)')"
      ]
     },
     "execution_count": 43,
     "metadata": {},
     "output_type": "execute_result"
    },
    {
     "data": {
      "image/png": "[encoded data removed]",
      "text/plain": [
       "<Figure size 432x288 with 1 Axes>"
      ]
     },
     "metadata": {},
     "output_type": "display_data"
    }
   ],
   "source": [
    "# VISUALIZING AND PLOTTING THE TRAINED DATA POINTS\n",
    "\n",
    "plt.scatter(X_train, \n",
    "            y_train,\n",
    "           color = 'purple')\n",
    "plt.xlabel('Horse Power')\n",
    "plt.ylabel('Fuel Economy (MPG)')\n",
    "plt.title('Relationship Between Horse Power & Fuel Economy (MPG) (For Training Set)')"
   ]
  },
  {
   "cell_type": "code",
   "execution_count": 45,
   "id": "d6cd552e",
   "metadata": {},
   "outputs": [
    {
     "data": {
      "text/plain": [
       "Text(0.5, 1.0, 'Relationship Between Horse Power & Fuel Economy (MPG) (For Training Set)')"
      ]
     },
     "execution_count": 45,
     "metadata": {},
     "output_type": "execute_result"
    },
    {
     "data": {
      "image/png": "[encoded data removed]",
      "text/plain": [
       "<Figure size 432x288 with 1 Axes>"
      ]
     },
     "metadata": {},
     "output_type": "display_data"
    }
   ],
   "source": [
    "# We want to visualize the trained model we trained \n",
    "# with the trained data \n",
    "\n",
    "plt.scatter(X_train, \n",
    "            y_train,\n",
    "           color = 'purple')\n",
    "plt.plot(X_train,\n",
    "         regressor.predict(X_train),\n",
    "        color = 'black')\n",
    "plt.xlabel('Horse Power')\n",
    "plt.ylabel('Fuel Economy (MPG)')\n",
    "plt.title('Relationship Between Horse Power & Fuel Economy (MPG) (For Training Set)')"
   ]
  },
  {
   "cell_type": "code",
   "execution_count": 48,
   "id": "156fcfe6",
   "metadata": {},
   "outputs": [
    {
     "data": {
      "text/plain": [
       "Text(0.5, 1.0, 'Relationship Between Horse Power & Fuel Economy (MPG) (For Training Set)')"
      ]
     },
     "execution_count": 48,
     "metadata": {},
     "output_type": "execute_result"
    },
    {
     "data": {
      "image/png": "[encoded data removed]",
      "text/plain": [
       "<Figure size 432x288 with 1 Axes>"
      ]
     },
     "metadata": {},
     "output_type": "display_data"
    }
   ],
   "source": [
    "# checking to set what would happen when we plot \n",
    "# using test data \n",
    "\n",
    "plt.scatter(X_test, \n",
    "            y_test,\n",
    "           color = 'black')\n",
    "plt.plot(X_test,\n",
    "         regressor.predict(X_test),\n",
    "        color = 'green')\n",
    "plt.xlabel('Horse Power')\n",
    "plt.ylabel('Fuel Economy (MPG)')\n",
    "plt.title('Relationship Between Horse Power & Fuel Economy (MPG) (For Training Set)')"
   ]
  },
  {
   "cell_type": "markdown",
   "id": "2e1a3a8c",
   "metadata": {},
   "source": [
    "        OBSERVATIONS"
   ]
  },
  {
   "cell_type": "markdown",
   "id": "5b1df6ca",
   "metadata": {},
   "source": [
    "    1. the straight lines for both the training and test are similar to each other. \n",
    "    2. the dataset used to plot were fewer in testing plot than in training plot (which were more)\n",
    "    3. checking the values of the trained models (m and b) in the plotted graphs if they were in consonant with plotted outcome. THEY WERE ACTUALLY"
   ]
  },
  {
   "cell_type": "markdown",
   "id": "83b0aba8",
   "metadata": {},
   "source": [
    "# Making a Prediction by supplying the model with a new data"
   ]
  },
  {
   "cell_type": "code",
   "execution_count": 55,
   "id": "0c6176a4",
   "metadata": {},
   "outputs": [
    {
     "data": {
      "text/plain": [
       "array([-5.09135818, 27.85637959, 31.51723934, 16.87380033])"
      ]
     },
     "execution_count": 55,
     "metadata": {},
     "output_type": "execute_result"
    }
   ],
   "source": [
    "HP = [[600], [150], [100], [300]]\n",
    "MPG = regressor.predict(HP)\n",
    "MPG"
   ]
  },
  {
   "cell_type": "markdown",
   "id": "67b6e366",
   "metadata": {},
   "source": [
    "# Project Completion"
   ]
  },
  {
   "cell_type": "markdown",
   "id": "b946eb95",
   "metadata": {},
   "source": [
    "# DAN'S NEXT STEP"
   ]
  },
  {
   "cell_type": "markdown",
   "id": "1d559d6d",
   "metadata": {},
   "source": [
    "WITH HAS AMOUNT OF WORK DAN HAS PUT IN IN BUILDING THE MODEL, HE CAN THEN PROCEED TO PRESENT HIS WORK TO THE MANAGEMENT ABOUT HIS FINDINGS AND PREDICTIONS. \n",
    "\n",
    "THE MANAGEMENT CAN THEN DECIDE WHETHER TO INCREASE OR DECREASE HORSE POWER IN THEIR SUBSEQUENT PRODUCTION OF VEHICLES SO AS TO DRIVE SELL USING THE ADVANTAGE FOR AGGRESSIVE MARKETING "
   ]
  },
  {
   "cell_type": "code",
   "execution_count": null,
   "id": "b098f6bc",
   "metadata": {},
   "outputs": [],
   "source": []
  }
 ],
 "metadata": {
  "kernelspec": {
   "display_name": "Python 3",
   "language": "python",
   "name": "python3"
  },
  "language_info": {
   "codemirror_mode": {
    "name": "ipython",
    "version": 3
   },
   "file_extension": ".py",
   "mimetype": "text/x-python",
   "name": "python",
   "nbconvert_exporter": "python",
   "pygments_lexer": "ipython3",
   "version": "3.8.8"
  }
 },
 "nbformat": 4,
 "nbformat_minor": 5
}
